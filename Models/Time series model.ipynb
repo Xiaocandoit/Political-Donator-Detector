{
 "cells": [
  {
   "cell_type": "code",
   "execution_count": 2,
   "id": "2c039e8b-9b79-4a0c-86a7-bfdb26fce551",
   "metadata": {},
   "outputs": [],
   "source": [
    "import pandas as pd\n",
    "import numpy as np\n",
    "import matplotlib.pyplot as plt\n",
    "from statsmodels.tsa.stattools import adfuller\n",
    "from statsmodels.graphics.tsaplots import plot_acf, plot_pacf\n",
    "from statsmodels.tsa.arima.model import ARIMA\n",
    "# from sklearn.metrics import mean_squared_error"
   ]
  },
  {
   "cell_type": "code",
   "execution_count": 3,
   "id": "9034b446-4bad-4bfc-878d-b0ad7e93f63d",
   "metadata": {
    "tags": []
   },
   "outputs": [
    {
     "name": "stdout",
     "output_type": "stream",
     "text": [
      "Looking in indexes: http://mirrors.aliyun.com/pypi/simple\n",
      "Requirement already satisfied: scikit-learn in /root/miniconda3/lib/python3.8/site-packages (1.3.2)\n",
      "Requirement already satisfied: numpy<2.0,>=1.17.3 in /root/miniconda3/lib/python3.8/site-packages (from scikit-learn) (1.24.2)\n",
      "Requirement already satisfied: scipy>=1.5.0 in /root/miniconda3/lib/python3.8/site-packages (from scikit-learn) (1.10.1)\n",
      "Requirement already satisfied: joblib>=1.1.1 in /root/miniconda3/lib/python3.8/site-packages (from scikit-learn) (1.3.2)\n",
      "Requirement already satisfied: threadpoolctl>=2.0.0 in /root/miniconda3/lib/python3.8/site-packages (from scikit-learn) (3.2.0)\n",
      "\u001b[33mWARNING: Running pip as the 'root' user can result in broken permissions and conflicting behaviour with the system package manager. It is recommended to use a virtual environment instead: https://pip.pypa.io/warnings/venv\u001b[0m\n"
     ]
    }
   ],
   "source": [
    "!pip install scikit-learn"
   ]
  },
  {
   "cell_type": "code",
   "execution_count": 4,
   "id": "cc7794df-b432-4886-8e90-96dc2982ff87",
   "metadata": {
    "tags": []
   },
   "outputs": [
    {
     "name": "stderr",
     "output_type": "stream",
     "text": [
      "/tmp/ipykernel_15961/2267991074.py:1: DtypeWarning: Columns (8,9) have mixed types. Specify dtype option on import or set low_memory=False.\n",
      "  df = pd.read_csv('merged_years1.csv')\n"
     ]
    }
   ],
   "source": [
    "\n",
    "df = pd.read_csv('merged_years1.csv')\n",
    "import warnings\n",
    "\n",
    "# Ignore all warnings\n",
    "warnings.filterwarnings('ignore')"
   ]
  },
  {
   "cell_type": "code",
   "execution_count": 107,
   "id": "418dfdd8-5e82-484d-8e34-6991abea8fee",
   "metadata": {
    "tags": []
   },
   "outputs": [
    {
     "data": {
      "text/html": [
       "<div>\n",
       "<style scoped>\n",
       "    .dataframe tbody tr th:only-of-type {\n",
       "        vertical-align: middle;\n",
       "    }\n",
       "\n",
       "    .dataframe tbody tr th {\n",
       "        vertical-align: top;\n",
       "    }\n",
       "\n",
       "    .dataframe thead th {\n",
       "        text-align: right;\n",
       "    }\n",
       "</style>\n",
       "<table border=\"1\" class=\"dataframe\">\n",
       "  <thead>\n",
       "    <tr style=\"text-align: right;\">\n",
       "      <th></th>\n",
       "      <th>CMTE_ID</th>\n",
       "      <th>NAME</th>\n",
       "      <th>CITY</th>\n",
       "      <th>STATE</th>\n",
       "      <th>ZIP_CODE</th>\n",
       "      <th>EMPLOYER</th>\n",
       "      <th>OCCUPATION</th>\n",
       "      <th>TRANSACTION_TP</th>\n",
       "      <th>TRANSACTION_DT</th>\n",
       "      <th>TRANSACTION_AMT</th>\n",
       "    </tr>\n",
       "  </thead>\n",
       "  <tbody>\n",
       "    <tr>\n",
       "      <th>0</th>\n",
       "      <td>C00401224</td>\n",
       "      <td>EDWARDS, DONALD</td>\n",
       "      <td>SANTA ROSA</td>\n",
       "      <td>CA</td>\n",
       "      <td>95409.0</td>\n",
       "      <td>NOT EMPLOYED</td>\n",
       "      <td>NOT EMPLOYED</td>\n",
       "      <td>24T</td>\n",
       "      <td>1012021</td>\n",
       "      <td>250</td>\n",
       "    </tr>\n",
       "    <tr>\n",
       "      <th>1</th>\n",
       "      <td>C00401224</td>\n",
       "      <td>ELAM NORRIS, GLORIA</td>\n",
       "      <td>CHICAGO</td>\n",
       "      <td>IL</td>\n",
       "      <td>60649.0</td>\n",
       "      <td>UNIV OF IL</td>\n",
       "      <td>PHYSICIAN</td>\n",
       "      <td>24T</td>\n",
       "      <td>1012021</td>\n",
       "      <td>250</td>\n",
       "    </tr>\n",
       "    <tr>\n",
       "      <th>2</th>\n",
       "      <td>C00401224</td>\n",
       "      <td>ELAM NORRIS, GLORIA</td>\n",
       "      <td>CHICAGO</td>\n",
       "      <td>IL</td>\n",
       "      <td>60649.0</td>\n",
       "      <td>UNIV OF IL</td>\n",
       "      <td>PHYSICIAN</td>\n",
       "      <td>24T</td>\n",
       "      <td>1012021</td>\n",
       "      <td>250</td>\n",
       "    </tr>\n",
       "    <tr>\n",
       "      <th>3</th>\n",
       "      <td>C00401224</td>\n",
       "      <td>EHRENKRANZ, ANDRA</td>\n",
       "      <td>NEW YORK</td>\n",
       "      <td>NY</td>\n",
       "      <td>10021.0</td>\n",
       "      <td>NOT EMPLOYED</td>\n",
       "      <td>NOT EMPLOYED</td>\n",
       "      <td>24T</td>\n",
       "      <td>1012021</td>\n",
       "      <td>250</td>\n",
       "    </tr>\n",
       "    <tr>\n",
       "      <th>4</th>\n",
       "      <td>C00401224</td>\n",
       "      <td>EASTERBROOK, LESLIE</td>\n",
       "      <td>TARZANA</td>\n",
       "      <td>CA</td>\n",
       "      <td>91356.0</td>\n",
       "      <td>NONE</td>\n",
       "      <td>NOT EMPLOYED</td>\n",
       "      <td>24T</td>\n",
       "      <td>1012021</td>\n",
       "      <td>100</td>\n",
       "    </tr>\n",
       "  </tbody>\n",
       "</table>\n",
       "</div>"
      ],
      "text/plain": [
       "     CMTE_ID                 NAME        CITY STATE ZIP_CODE      EMPLOYER  \\\n",
       "0  C00401224      EDWARDS, DONALD  SANTA ROSA    CA  95409.0  NOT EMPLOYED   \n",
       "1  C00401224  ELAM NORRIS, GLORIA     CHICAGO    IL  60649.0    UNIV OF IL   \n",
       "2  C00401224  ELAM NORRIS, GLORIA     CHICAGO    IL  60649.0    UNIV OF IL   \n",
       "3  C00401224    EHRENKRANZ, ANDRA    NEW YORK    NY  10021.0  NOT EMPLOYED   \n",
       "4  C00401224  EASTERBROOK, LESLIE     TARZANA    CA  91356.0          NONE   \n",
       "\n",
       "     OCCUPATION TRANSACTION_TP TRANSACTION_DT TRANSACTION_AMT  \n",
       "0  NOT EMPLOYED            24T        1012021             250  \n",
       "1     PHYSICIAN            24T        1012021             250  \n",
       "2     PHYSICIAN            24T        1012021             250  \n",
       "3  NOT EMPLOYED            24T        1012021             250  \n",
       "4  NOT EMPLOYED            24T        1012021             100  "
      ]
     },
     "execution_count": 107,
     "metadata": {},
     "output_type": "execute_result"
    }
   ],
   "source": [
    "df.head()"
   ]
  },
  {
   "cell_type": "code",
   "execution_count": 108,
   "id": "9acccab0-aea2-4fe1-9507-104cd846aabb",
   "metadata": {
    "tags": []
   },
   "outputs": [
    {
     "data": {
      "text/plain": [
       "(45520252, 10)"
      ]
     },
     "execution_count": 108,
     "metadata": {},
     "output_type": "execute_result"
    }
   ],
   "source": [
    "df.shape"
   ]
  },
  {
   "cell_type": "code",
   "execution_count": 109,
   "id": "c63b9468-3a96-4949-bdfa-f7c1ae72c05e",
   "metadata": {
    "tags": []
   },
   "outputs": [],
   "source": [
    "# Transform TRANSACTION_DT to datetime dtype and store the values in a new column 'transac_date'."
   ]
  },
  {
   "cell_type": "code",
   "execution_count": 110,
   "id": "8dbf1c40-f280-4358-846d-38daebf04250",
   "metadata": {
    "tags": []
   },
   "outputs": [],
   "source": [
    "def clean_transaction_dt(value):\n",
    "    if isinstance(value, (int, float)) and not isinstance(value, bool):\n",
    "        # If the value is numeric, convert to integer\n",
    "        return int(value)\n",
    "    elif isinstance(value, str):\n",
    "        # If the value is a string, try to convert to integer after removing non-numeric characters\n",
    "        cleaned_value = ''.join(char for char in str(value) if char.isdigit() or char == '.')\n",
    "        try:\n",
    "            return int(float(cleaned_value))\n",
    "        except ValueError:\n",
    "            # If conversion fails, return NaN (you can modify this part based on your requirement)\n",
    "            return float('nan')\n",
    "    else:\n",
    "        # If the value is neither numeric nor string, return NaN\n",
    "        return float('nan')"
   ]
  },
  {
   "cell_type": "code",
   "execution_count": 111,
   "id": "457fdcd2-cc3b-42e7-b1ed-9c0a0adb14f4",
   "metadata": {
    "tags": []
   },
   "outputs": [],
   "source": [
    "# Apply the cleaning function to 'TRANSACTION_DT' column\n",
    "df['TRANSACTION_DT_cleaned'] = df['TRANSACTION_DT'].apply(clean_transaction_dt)\n",
    "\n",
    "# Drop rows where 'TRANSACTION_DT_cleaned' is NaN\n",
    "df = df.dropna(subset=['TRANSACTION_DT_cleaned'])\n",
    "\n",
    "# Convert the cleaned values back to integer if needed\n",
    "df['TRANSACTION_DT_cleaned'] = df['TRANSACTION_DT_cleaned'].astype(int)"
   ]
  },
  {
   "cell_type": "code",
   "execution_count": 112,
   "id": "514a0a16-0465-4667-9518-139575c78daa",
   "metadata": {
    "tags": []
   },
   "outputs": [
    {
     "name": "stdout",
     "output_type": "stream",
     "text": [
      "Unique lengths of values in TRANSACTION_DT_cleaned: [7 8]\n"
     ]
    }
   ],
   "source": [
    "unique_values_lengths_cleaned = df['TRANSACTION_DT_cleaned'].astype(str).apply(len).unique()\n",
    "print(\"Unique lengths of values in TRANSACTION_DT_cleaned:\", unique_values_lengths_cleaned)"
   ]
  },
  {
   "cell_type": "code",
   "execution_count": 113,
   "id": "b4400daa-11ff-4d4f-9d12-0eb0b967c76e",
   "metadata": {
    "tags": []
   },
   "outputs": [],
   "source": [
    "df['TRANSACTION_DT_cleaned'] = df['TRANSACTION_DT_cleaned'].astype(str)\n",
    "\n",
    "# Check if the length is 7 and prepend '0' if true\n",
    "df.loc[df['TRANSACTION_DT_cleaned'].str.len() == 7, 'TRANSACTION_DT_cleaned'] = '0' + df['TRANSACTION_DT_cleaned'] \n",
    "\n",
    "df['transac_date'] = pd.to_datetime(df['TRANSACTION_DT_cleaned'], format='%m%d%Y', errors='coerce')"
   ]
  },
  {
   "cell_type": "code",
   "execution_count": 114,
   "id": "1487d1e4-adc0-4874-b156-f3d695670ed4",
   "metadata": {
    "tags": []
   },
   "outputs": [
    {
     "data": {
      "text/html": [
       "<div>\n",
       "<style scoped>\n",
       "    .dataframe tbody tr th:only-of-type {\n",
       "        vertical-align: middle;\n",
       "    }\n",
       "\n",
       "    .dataframe tbody tr th {\n",
       "        vertical-align: top;\n",
       "    }\n",
       "\n",
       "    .dataframe thead th {\n",
       "        text-align: right;\n",
       "    }\n",
       "</style>\n",
       "<table border=\"1\" class=\"dataframe\">\n",
       "  <thead>\n",
       "    <tr style=\"text-align: right;\">\n",
       "      <th></th>\n",
       "      <th>CMTE_ID</th>\n",
       "      <th>NAME</th>\n",
       "      <th>CITY</th>\n",
       "      <th>STATE</th>\n",
       "      <th>ZIP_CODE</th>\n",
       "      <th>EMPLOYER</th>\n",
       "      <th>OCCUPATION</th>\n",
       "      <th>TRANSACTION_TP</th>\n",
       "      <th>TRANSACTION_DT</th>\n",
       "      <th>TRANSACTION_AMT</th>\n",
       "      <th>TRANSACTION_DT_cleaned</th>\n",
       "      <th>transac_date</th>\n",
       "    </tr>\n",
       "  </thead>\n",
       "  <tbody>\n",
       "    <tr>\n",
       "      <th>0</th>\n",
       "      <td>C00401224</td>\n",
       "      <td>EDWARDS, DONALD</td>\n",
       "      <td>SANTA ROSA</td>\n",
       "      <td>CA</td>\n",
       "      <td>95409.0</td>\n",
       "      <td>NOT EMPLOYED</td>\n",
       "      <td>NOT EMPLOYED</td>\n",
       "      <td>24T</td>\n",
       "      <td>1012021</td>\n",
       "      <td>250</td>\n",
       "      <td>01012021</td>\n",
       "      <td>2021-01-01</td>\n",
       "    </tr>\n",
       "    <tr>\n",
       "      <th>1</th>\n",
       "      <td>C00401224</td>\n",
       "      <td>ELAM NORRIS, GLORIA</td>\n",
       "      <td>CHICAGO</td>\n",
       "      <td>IL</td>\n",
       "      <td>60649.0</td>\n",
       "      <td>UNIV OF IL</td>\n",
       "      <td>PHYSICIAN</td>\n",
       "      <td>24T</td>\n",
       "      <td>1012021</td>\n",
       "      <td>250</td>\n",
       "      <td>01012021</td>\n",
       "      <td>2021-01-01</td>\n",
       "    </tr>\n",
       "    <tr>\n",
       "      <th>2</th>\n",
       "      <td>C00401224</td>\n",
       "      <td>ELAM NORRIS, GLORIA</td>\n",
       "      <td>CHICAGO</td>\n",
       "      <td>IL</td>\n",
       "      <td>60649.0</td>\n",
       "      <td>UNIV OF IL</td>\n",
       "      <td>PHYSICIAN</td>\n",
       "      <td>24T</td>\n",
       "      <td>1012021</td>\n",
       "      <td>250</td>\n",
       "      <td>01012021</td>\n",
       "      <td>2021-01-01</td>\n",
       "    </tr>\n",
       "    <tr>\n",
       "      <th>3</th>\n",
       "      <td>C00401224</td>\n",
       "      <td>EHRENKRANZ, ANDRA</td>\n",
       "      <td>NEW YORK</td>\n",
       "      <td>NY</td>\n",
       "      <td>10021.0</td>\n",
       "      <td>NOT EMPLOYED</td>\n",
       "      <td>NOT EMPLOYED</td>\n",
       "      <td>24T</td>\n",
       "      <td>1012021</td>\n",
       "      <td>250</td>\n",
       "      <td>01012021</td>\n",
       "      <td>2021-01-01</td>\n",
       "    </tr>\n",
       "    <tr>\n",
       "      <th>4</th>\n",
       "      <td>C00401224</td>\n",
       "      <td>EASTERBROOK, LESLIE</td>\n",
       "      <td>TARZANA</td>\n",
       "      <td>CA</td>\n",
       "      <td>91356.0</td>\n",
       "      <td>NONE</td>\n",
       "      <td>NOT EMPLOYED</td>\n",
       "      <td>24T</td>\n",
       "      <td>1012021</td>\n",
       "      <td>100</td>\n",
       "      <td>01012021</td>\n",
       "      <td>2021-01-01</td>\n",
       "    </tr>\n",
       "  </tbody>\n",
       "</table>\n",
       "</div>"
      ],
      "text/plain": [
       "     CMTE_ID                 NAME        CITY STATE ZIP_CODE      EMPLOYER  \\\n",
       "0  C00401224      EDWARDS, DONALD  SANTA ROSA    CA  95409.0  NOT EMPLOYED   \n",
       "1  C00401224  ELAM NORRIS, GLORIA     CHICAGO    IL  60649.0    UNIV OF IL   \n",
       "2  C00401224  ELAM NORRIS, GLORIA     CHICAGO    IL  60649.0    UNIV OF IL   \n",
       "3  C00401224    EHRENKRANZ, ANDRA    NEW YORK    NY  10021.0  NOT EMPLOYED   \n",
       "4  C00401224  EASTERBROOK, LESLIE     TARZANA    CA  91356.0          NONE   \n",
       "\n",
       "     OCCUPATION TRANSACTION_TP TRANSACTION_DT TRANSACTION_AMT  \\\n",
       "0  NOT EMPLOYED            24T        1012021             250   \n",
       "1     PHYSICIAN            24T        1012021             250   \n",
       "2     PHYSICIAN            24T        1012021             250   \n",
       "3  NOT EMPLOYED            24T        1012021             250   \n",
       "4  NOT EMPLOYED            24T        1012021             100   \n",
       "\n",
       "  TRANSACTION_DT_cleaned transac_date  \n",
       "0               01012021   2021-01-01  \n",
       "1               01012021   2021-01-01  \n",
       "2               01012021   2021-01-01  \n",
       "3               01012021   2021-01-01  \n",
       "4               01012021   2021-01-01  "
      ]
     },
     "execution_count": 114,
     "metadata": {},
     "output_type": "execute_result"
    }
   ],
   "source": [
    "df.head()"
   ]
  },
  {
   "cell_type": "code",
   "execution_count": 115,
   "id": "c02d150d-b96a-41c4-b508-fde0f621f61a",
   "metadata": {
    "tags": []
   },
   "outputs": [],
   "source": [
    "# change TRANSACTION_AMT to numerical values and store them in the new column 'donation'."
   ]
  },
  {
   "cell_type": "code",
   "execution_count": 116,
   "id": "2c8193f4-d020-4fb2-a62f-83d9b681a6b1",
   "metadata": {
    "tags": []
   },
   "outputs": [],
   "source": [
    "# Display the value counts for the dtype of values in the 'TRANSACTION_AMT' column\n",
    "# value_counts_TRANSACTION_AMT_type = df['TRANSACTION_AMT'].apply(lambda x: type(x).__name__).value_counts()\n",
    "# print(value_counts_TRANSACTION_AMT_type)"
   ]
  },
  {
   "cell_type": "code",
   "execution_count": 117,
   "id": "8c502baa-b505-40a8-ba85-a086f1f4a826",
   "metadata": {
    "tags": []
   },
   "outputs": [],
   "source": [
    "df['donation'] = pd.to_numeric(df['TRANSACTION_AMT'], errors='coerce')"
   ]
  },
  {
   "cell_type": "code",
   "execution_count": 118,
   "id": "bcc1ff92-b134-4de2-84f2-1f8e6faf3b00",
   "metadata": {
    "tags": []
   },
   "outputs": [
    {
     "data": {
      "text/html": [
       "<div>\n",
       "<style scoped>\n",
       "    .dataframe tbody tr th:only-of-type {\n",
       "        vertical-align: middle;\n",
       "    }\n",
       "\n",
       "    .dataframe tbody tr th {\n",
       "        vertical-align: top;\n",
       "    }\n",
       "\n",
       "    .dataframe thead th {\n",
       "        text-align: right;\n",
       "    }\n",
       "</style>\n",
       "<table border=\"1\" class=\"dataframe\">\n",
       "  <thead>\n",
       "    <tr style=\"text-align: right;\">\n",
       "      <th></th>\n",
       "      <th>CMTE_ID</th>\n",
       "      <th>NAME</th>\n",
       "      <th>CITY</th>\n",
       "      <th>STATE</th>\n",
       "      <th>ZIP_CODE</th>\n",
       "      <th>EMPLOYER</th>\n",
       "      <th>OCCUPATION</th>\n",
       "      <th>TRANSACTION_TP</th>\n",
       "      <th>TRANSACTION_DT</th>\n",
       "      <th>TRANSACTION_AMT</th>\n",
       "      <th>TRANSACTION_DT_cleaned</th>\n",
       "      <th>transac_date</th>\n",
       "      <th>donation</th>\n",
       "    </tr>\n",
       "  </thead>\n",
       "  <tbody>\n",
       "    <tr>\n",
       "      <th>0</th>\n",
       "      <td>C00401224</td>\n",
       "      <td>EDWARDS, DONALD</td>\n",
       "      <td>SANTA ROSA</td>\n",
       "      <td>CA</td>\n",
       "      <td>95409.0</td>\n",
       "      <td>NOT EMPLOYED</td>\n",
       "      <td>NOT EMPLOYED</td>\n",
       "      <td>24T</td>\n",
       "      <td>1012021</td>\n",
       "      <td>250</td>\n",
       "      <td>01012021</td>\n",
       "      <td>2021-01-01</td>\n",
       "      <td>250</td>\n",
       "    </tr>\n",
       "    <tr>\n",
       "      <th>1</th>\n",
       "      <td>C00401224</td>\n",
       "      <td>ELAM NORRIS, GLORIA</td>\n",
       "      <td>CHICAGO</td>\n",
       "      <td>IL</td>\n",
       "      <td>60649.0</td>\n",
       "      <td>UNIV OF IL</td>\n",
       "      <td>PHYSICIAN</td>\n",
       "      <td>24T</td>\n",
       "      <td>1012021</td>\n",
       "      <td>250</td>\n",
       "      <td>01012021</td>\n",
       "      <td>2021-01-01</td>\n",
       "      <td>250</td>\n",
       "    </tr>\n",
       "    <tr>\n",
       "      <th>2</th>\n",
       "      <td>C00401224</td>\n",
       "      <td>ELAM NORRIS, GLORIA</td>\n",
       "      <td>CHICAGO</td>\n",
       "      <td>IL</td>\n",
       "      <td>60649.0</td>\n",
       "      <td>UNIV OF IL</td>\n",
       "      <td>PHYSICIAN</td>\n",
       "      <td>24T</td>\n",
       "      <td>1012021</td>\n",
       "      <td>250</td>\n",
       "      <td>01012021</td>\n",
       "      <td>2021-01-01</td>\n",
       "      <td>250</td>\n",
       "    </tr>\n",
       "    <tr>\n",
       "      <th>3</th>\n",
       "      <td>C00401224</td>\n",
       "      <td>EHRENKRANZ, ANDRA</td>\n",
       "      <td>NEW YORK</td>\n",
       "      <td>NY</td>\n",
       "      <td>10021.0</td>\n",
       "      <td>NOT EMPLOYED</td>\n",
       "      <td>NOT EMPLOYED</td>\n",
       "      <td>24T</td>\n",
       "      <td>1012021</td>\n",
       "      <td>250</td>\n",
       "      <td>01012021</td>\n",
       "      <td>2021-01-01</td>\n",
       "      <td>250</td>\n",
       "    </tr>\n",
       "    <tr>\n",
       "      <th>4</th>\n",
       "      <td>C00401224</td>\n",
       "      <td>EASTERBROOK, LESLIE</td>\n",
       "      <td>TARZANA</td>\n",
       "      <td>CA</td>\n",
       "      <td>91356.0</td>\n",
       "      <td>NONE</td>\n",
       "      <td>NOT EMPLOYED</td>\n",
       "      <td>24T</td>\n",
       "      <td>1012021</td>\n",
       "      <td>100</td>\n",
       "      <td>01012021</td>\n",
       "      <td>2021-01-01</td>\n",
       "      <td>100</td>\n",
       "    </tr>\n",
       "  </tbody>\n",
       "</table>\n",
       "</div>"
      ],
      "text/plain": [
       "     CMTE_ID                 NAME        CITY STATE ZIP_CODE      EMPLOYER  \\\n",
       "0  C00401224      EDWARDS, DONALD  SANTA ROSA    CA  95409.0  NOT EMPLOYED   \n",
       "1  C00401224  ELAM NORRIS, GLORIA     CHICAGO    IL  60649.0    UNIV OF IL   \n",
       "2  C00401224  ELAM NORRIS, GLORIA     CHICAGO    IL  60649.0    UNIV OF IL   \n",
       "3  C00401224    EHRENKRANZ, ANDRA    NEW YORK    NY  10021.0  NOT EMPLOYED   \n",
       "4  C00401224  EASTERBROOK, LESLIE     TARZANA    CA  91356.0          NONE   \n",
       "\n",
       "     OCCUPATION TRANSACTION_TP TRANSACTION_DT TRANSACTION_AMT  \\\n",
       "0  NOT EMPLOYED            24T        1012021             250   \n",
       "1     PHYSICIAN            24T        1012021             250   \n",
       "2     PHYSICIAN            24T        1012021             250   \n",
       "3  NOT EMPLOYED            24T        1012021             250   \n",
       "4  NOT EMPLOYED            24T        1012021             100   \n",
       "\n",
       "  TRANSACTION_DT_cleaned transac_date  donation  \n",
       "0               01012021   2021-01-01       250  \n",
       "1               01012021   2021-01-01       250  \n",
       "2               01012021   2021-01-01       250  \n",
       "3               01012021   2021-01-01       250  \n",
       "4               01012021   2021-01-01       100  "
      ]
     },
     "execution_count": 118,
     "metadata": {},
     "output_type": "execute_result"
    }
   ],
   "source": [
    "df.head()"
   ]
  },
  {
   "cell_type": "code",
   "execution_count": 119,
   "id": "b1c07529-e119-4769-b9a4-a062e9baf65a",
   "metadata": {
    "tags": []
   },
   "outputs": [
    {
     "name": "stdout",
     "output_type": "stream",
     "text": [
      "<class 'pandas.core.frame.DataFrame'>\n",
      "Index: 45520236 entries, 0 to 45520251\n",
      "Data columns (total 13 columns):\n",
      " #   Column                  Dtype         \n",
      "---  ------                  -----         \n",
      " 0   CMTE_ID                 object        \n",
      " 1   NAME                    object        \n",
      " 2   CITY                    object        \n",
      " 3   STATE                   object        \n",
      " 4   ZIP_CODE                object        \n",
      " 5   EMPLOYER                object        \n",
      " 6   OCCUPATION              object        \n",
      " 7   TRANSACTION_TP          object        \n",
      " 8   TRANSACTION_DT          object        \n",
      " 9   TRANSACTION_AMT         object        \n",
      " 10  TRANSACTION_DT_cleaned  object        \n",
      " 11  transac_date            datetime64[ns]\n",
      " 12  donation                int64         \n",
      "dtypes: datetime64[ns](1), int64(1), object(11)\n",
      "memory usage: 5.8+ GB\n"
     ]
    }
   ],
   "source": [
    "df.info()"
   ]
  },
  {
   "cell_type": "markdown",
   "id": "fcdf699d-af01-4ef8-a9c1-aa3a6985eaf7",
   "metadata": {},
   "source": [
    "# Predict the donation amount based on year, month, weekday, and day using Linear Regression Model. "
   ]
  },
  {
   "cell_type": "code",
   "execution_count": 121,
   "id": "1cdece9f-258e-416a-941e-6df04e8b8352",
   "metadata": {
    "tags": []
   },
   "outputs": [],
   "source": [
    "df['year'] = pd.to_datetime(df.transac_date).dt.year"
   ]
  },
  {
   "cell_type": "code",
   "execution_count": 122,
   "id": "07b97f7c-605d-4dfd-9694-a11ea5092cd5",
   "metadata": {
    "tags": []
   },
   "outputs": [],
   "source": [
    "# df['transac_date'] = pd.to_datetime(df['TRANSACTION_DT_cleaned'], format='%m%d%Y', errors='coerce')"
   ]
  },
  {
   "cell_type": "code",
   "execution_count": 123,
   "id": "bec5e419-21e4-416e-acc0-7c17c2beeed7",
   "metadata": {
    "tags": []
   },
   "outputs": [
    {
     "data": {
      "text/plain": [
       "36416188.800000004"
      ]
     },
     "execution_count": 123,
     "metadata": {},
     "output_type": "execute_result"
    }
   ],
   "source": [
    "df.shape[0]*.8"
   ]
  },
  {
   "cell_type": "code",
   "execution_count": 124,
   "id": "bc96dc8f-05ce-49dd-84a6-4cd1bbd76234",
   "metadata": {
    "tags": []
   },
   "outputs": [
    {
     "data": {
      "text/plain": [
       "36383964"
      ]
     },
     "execution_count": 124,
     "metadata": {},
     "output_type": "execute_result"
    }
   ],
   "source": [
    "len(df[df['transac_date'] < '2021-11-05'])"
   ]
  },
  {
   "cell_type": "code",
   "execution_count": 125,
   "id": "b55638d5-f0a8-4c26-bb1d-24fc74a5bda4",
   "metadata": {
    "tags": []
   },
   "outputs": [],
   "source": [
    "train_raw = df[df.transac_date < '2021-11-05'].reset_index(drop=True)\n",
    "test_raw = df[df.transac_date >= '2021-11-05'].reset_index(drop=True)"
   ]
  },
  {
   "cell_type": "code",
   "execution_count": 126,
   "id": "2895c08e-dcf6-414e-9a19-598e88a26170",
   "metadata": {
    "tags": []
   },
   "outputs": [],
   "source": [
    "class DT_Transformer(object):\n",
    "    \n",
    "    def fit(self, X, y=None):\n",
    "        pass\n",
    "        \n",
    "    def transform(self, X, y=None):\n",
    "        df = pd.DataFrame()\n",
    "        df['year'] = pd.to_datetime(X.transac_date).dt.year\n",
    "        df['month'] = pd.to_datetime(X.transac_date).dt.month\n",
    "        df['weekday'] = pd.to_datetime(X.transac_date).dt.weekday\n",
    "        df['day'] = pd.to_datetime(X.transac_date).dt.day\n",
    "        return df\n",
    "    \n",
    "    def fit_transform(self, X, y=None):\n",
    "        return self.transform(X)"
   ]
  },
  {
   "cell_type": "code",
   "execution_count": 127,
   "id": "d1308b21-87d5-4afb-8137-2a6faeca7b29",
   "metadata": {
    "tags": []
   },
   "outputs": [],
   "source": [
    "from sklearn.linear_model import LinearRegression\n",
    "from sklearn.pipeline import Pipeline\n",
    "from sklearn.metrics import mean_absolute_error, mean_squared_error, r2_score\n",
    "\n",
    "X_train = train_raw[[\"transac_date\"]]\n",
    "y_train = train_raw[\"donation\"]\n",
    "\n",
    "X_test = test_raw[[\"transac_date\"]]\n",
    "y_test = test_raw[\"donation\"]\n",
    "\n",
    "steps = [(\"dttf\", DT_Transformer()), (\"lr\", LinearRegression())]\n",
    "\n",
    "model = Pipeline(steps)\n",
    "model = model.fit(X_train, y_train)"
   ]
  },
  {
   "cell_type": "code",
   "execution_count": 128,
   "id": "d831663f-74ba-43e4-b8cb-d12c046e8c9c",
   "metadata": {
    "tags": []
   },
   "outputs": [],
   "source": [
    "def loss(data, X, y_true, model):\n",
    "    '''Calculate the MAE, MSE and R2 of data (str) between true and prediction with model'''\n",
    "    y_pred = model.predict(X)\n",
    "    print(data, \"MAE: {0:.2e}\".format(mean_absolute_error(y_true, y_pred)))\n",
    "    print(data, \"MSE: {0:.2e}\".format(mean_squared_error(y_true, y_pred)))\n",
    "    print(data, \"R2 score : {0:.3f}\".format(r2_score(y_true, y_pred)))"
   ]
  },
  {
   "cell_type": "code",
   "execution_count": 129,
   "id": "acec9123-ca04-4a81-9c4e-221861dc905f",
   "metadata": {
    "tags": []
   },
   "outputs": [
    {
     "name": "stdout",
     "output_type": "stream",
     "text": [
      "train MAE: 1.16e+02\n",
      "train MSE: 2.25e+05\n",
      "train R2 score : 0.001\n"
     ]
    }
   ],
   "source": [
    "'''Train loss'''\n",
    "\n",
    "loss(\"train\", X_train, y_train, model)"
   ]
  },
  {
   "cell_type": "code",
   "execution_count": 130,
   "id": "fc39e382-7817-4c57-8365-368abef2c84c",
   "metadata": {
    "tags": []
   },
   "outputs": [
    {
     "name": "stdout",
     "output_type": "stream",
     "text": [
      "test MAE: 1.11e+02\n",
      "test MSE: 3.07e+05\n",
      "test R2 score : 0.000\n"
     ]
    }
   ],
   "source": [
    "'''Test loss'''\n",
    "\n",
    "loss(\"test\", X_test, y_test, model)"
   ]
  },
  {
   "cell_type": "code",
   "execution_count": 131,
   "id": "8998996c-532c-4340-8aec-3fd040416ad5",
   "metadata": {
    "tags": []
   },
   "outputs": [
    {
     "data": {
      "text/plain": [
       "Text(0, 0.5, 'y_test_pred')"
      ]
     },
     "execution_count": 131,
     "metadata": {},
     "output_type": "execute_result"
    },
    {
     "data": {
      "image/png": "[encoded data removed]",
      "text/plain": [
       "<Figure size 640x480 with 1 Axes>"
      ]
     },
     "metadata": {},
     "output_type": "display_data"
    }
   ],
   "source": [
    "plt.scatter(y_test, model.predict(X_test), alpha = 0.3)\n",
    "plt.xlabel('y_test')\n",
    "plt.ylabel('y_test_pred')"
   ]
  },
  {
   "cell_type": "markdown",
   "id": "45aca225-1a5e-44c0-ab99-184c53c750cc",
   "metadata": {},
   "source": [
    "# It is the same as random guess when we predict the donation amount based on year, month, weekday, and day using Linear Regression Model. \n",
    "# Probably remove this entire linear regression model. "
   ]
  },
  {
   "cell_type": "markdown",
   "id": "140a3370-e20a-43fe-89b1-712b2fdf1a01",
   "metadata": {},
   "source": [
    "# It is worse than randome guess to predict the donation amount of the current year based on the donation from the last 3 years using Linear Regression Model. "
   ]
  },
  {
   "cell_type": "markdown",
   "id": "1184e860-55ba-4fca-a139-b8b1c7150417",
   "metadata": {},
   "source": [
    "# Next, Build a LinearRegression model to predict the monthly donation amount using the monthly donation amount in the past three months. "
   ]
  },
  {
   "cell_type": "code",
   "execution_count": 17,
   "id": "cfd5e0e5-be9a-488a-bf32-a05ebf3689d8",
   "metadata": {
    "tags": []
   },
   "outputs": [
    {
     "data": {
      "text/html": [
       "<div>\n",
       "<style scoped>\n",
       "    .dataframe tbody tr th:only-of-type {\n",
       "        vertical-align: middle;\n",
       "    }\n",
       "\n",
       "    .dataframe tbody tr th {\n",
       "        vertical-align: top;\n",
       "    }\n",
       "\n",
       "    .dataframe thead th {\n",
       "        text-align: right;\n",
       "    }\n",
       "</style>\n",
       "<table border=\"1\" class=\"dataframe\">\n",
       "  <thead>\n",
       "    <tr style=\"text-align: right;\">\n",
       "      <th></th>\n",
       "      <th>CMTE_ID</th>\n",
       "      <th>NAME</th>\n",
       "      <th>CITY</th>\n",
       "      <th>STATE</th>\n",
       "      <th>ZIP_CODE</th>\n",
       "      <th>EMPLOYER</th>\n",
       "      <th>OCCUPATION</th>\n",
       "      <th>TRANSACTION_TP</th>\n",
       "      <th>TRANSACTION_DT</th>\n",
       "      <th>TRANSACTION_AMT</th>\n",
       "      <th>TRANSACTION_DT_cleaned</th>\n",
       "      <th>transac_date</th>\n",
       "      <th>donation</th>\n",
       "    </tr>\n",
       "  </thead>\n",
       "  <tbody>\n",
       "    <tr>\n",
       "      <th>0</th>\n",
       "      <td>C00401224</td>\n",
       "      <td>EDWARDS, DONALD</td>\n",
       "      <td>SANTA ROSA</td>\n",
       "      <td>CA</td>\n",
       "      <td>95409.0</td>\n",
       "      <td>NOT EMPLOYED</td>\n",
       "      <td>NOT EMPLOYED</td>\n",
       "      <td>24T</td>\n",
       "      <td>1012021</td>\n",
       "      <td>250</td>\n",
       "      <td>01012021</td>\n",
       "      <td>2021-01-01</td>\n",
       "      <td>250</td>\n",
       "    </tr>\n",
       "    <tr>\n",
       "      <th>1</th>\n",
       "      <td>C00401224</td>\n",
       "      <td>ELAM NORRIS, GLORIA</td>\n",
       "      <td>CHICAGO</td>\n",
       "      <td>IL</td>\n",
       "      <td>60649.0</td>\n",
       "      <td>UNIV OF IL</td>\n",
       "      <td>PHYSICIAN</td>\n",
       "      <td>24T</td>\n",
       "      <td>1012021</td>\n",
       "      <td>250</td>\n",
       "      <td>01012021</td>\n",
       "      <td>2021-01-01</td>\n",
       "      <td>250</td>\n",
       "    </tr>\n",
       "    <tr>\n",
       "      <th>2</th>\n",
       "      <td>C00401224</td>\n",
       "      <td>ELAM NORRIS, GLORIA</td>\n",
       "      <td>CHICAGO</td>\n",
       "      <td>IL</td>\n",
       "      <td>60649.0</td>\n",
       "      <td>UNIV OF IL</td>\n",
       "      <td>PHYSICIAN</td>\n",
       "      <td>24T</td>\n",
       "      <td>1012021</td>\n",
       "      <td>250</td>\n",
       "      <td>01012021</td>\n",
       "      <td>2021-01-01</td>\n",
       "      <td>250</td>\n",
       "    </tr>\n",
       "    <tr>\n",
       "      <th>3</th>\n",
       "      <td>C00401224</td>\n",
       "      <td>EHRENKRANZ, ANDRA</td>\n",
       "      <td>NEW YORK</td>\n",
       "      <td>NY</td>\n",
       "      <td>10021.0</td>\n",
       "      <td>NOT EMPLOYED</td>\n",
       "      <td>NOT EMPLOYED</td>\n",
       "      <td>24T</td>\n",
       "      <td>1012021</td>\n",
       "      <td>250</td>\n",
       "      <td>01012021</td>\n",
       "      <td>2021-01-01</td>\n",
       "      <td>250</td>\n",
       "    </tr>\n",
       "    <tr>\n",
       "      <th>4</th>\n",
       "      <td>C00401224</td>\n",
       "      <td>EASTERBROOK, LESLIE</td>\n",
       "      <td>TARZANA</td>\n",
       "      <td>CA</td>\n",
       "      <td>91356.0</td>\n",
       "      <td>NONE</td>\n",
       "      <td>NOT EMPLOYED</td>\n",
       "      <td>24T</td>\n",
       "      <td>1012021</td>\n",
       "      <td>100</td>\n",
       "      <td>01012021</td>\n",
       "      <td>2021-01-01</td>\n",
       "      <td>100</td>\n",
       "    </tr>\n",
       "  </tbody>\n",
       "</table>\n",
       "</div>"
      ],
      "text/plain": [
       "     CMTE_ID                 NAME        CITY STATE ZIP_CODE      EMPLOYER  \\\n",
       "0  C00401224      EDWARDS, DONALD  SANTA ROSA    CA  95409.0  NOT EMPLOYED   \n",
       "1  C00401224  ELAM NORRIS, GLORIA     CHICAGO    IL  60649.0    UNIV OF IL   \n",
       "2  C00401224  ELAM NORRIS, GLORIA     CHICAGO    IL  60649.0    UNIV OF IL   \n",
       "3  C00401224    EHRENKRANZ, ANDRA    NEW YORK    NY  10021.0  NOT EMPLOYED   \n",
       "4  C00401224  EASTERBROOK, LESLIE     TARZANA    CA  91356.0          NONE   \n",
       "\n",
       "     OCCUPATION TRANSACTION_TP TRANSACTION_DT TRANSACTION_AMT  \\\n",
       "0  NOT EMPLOYED            24T        1012021             250   \n",
       "1     PHYSICIAN            24T        1012021             250   \n",
       "2     PHYSICIAN            24T        1012021             250   \n",
       "3  NOT EMPLOYED            24T        1012021             250   \n",
       "4  NOT EMPLOYED            24T        1012021             100   \n",
       "\n",
       "  TRANSACTION_DT_cleaned transac_date  donation  \n",
       "0               01012021   2021-01-01       250  \n",
       "1               01012021   2021-01-01       250  \n",
       "2               01012021   2021-01-01       250  \n",
       "3               01012021   2021-01-01       250  \n",
       "4               01012021   2021-01-01       100  "
      ]
     },
     "execution_count": 17,
     "metadata": {},
     "output_type": "execute_result"
    }
   ],
   "source": [
    "df.head()"
   ]
  },
  {
   "cell_type": "code",
   "execution_count": 20,
   "id": "0c5dce01-c518-4a61-a9b5-50349c370019",
   "metadata": {
    "tags": []
   },
   "outputs": [],
   "source": [
    "df_ARI= df[['transac_date','donation']]"
   ]
  },
  {
   "cell_type": "code",
   "execution_count": 21,
   "id": "45627596-6eda-4534-a52d-624a9788fc8f",
   "metadata": {
    "tags": []
   },
   "outputs": [
    {
     "data": {
      "text/html": [
       "<div>\n",
       "<style scoped>\n",
       "    .dataframe tbody tr th:only-of-type {\n",
       "        vertical-align: middle;\n",
       "    }\n",
       "\n",
       "    .dataframe tbody tr th {\n",
       "        vertical-align: top;\n",
       "    }\n",
       "\n",
       "    .dataframe thead th {\n",
       "        text-align: right;\n",
       "    }\n",
       "</style>\n",
       "<table border=\"1\" class=\"dataframe\">\n",
       "  <thead>\n",
       "    <tr style=\"text-align: right;\">\n",
       "      <th></th>\n",
       "      <th>transac_date</th>\n",
       "      <th>donation</th>\n",
       "    </tr>\n",
       "  </thead>\n",
       "  <tbody>\n",
       "    <tr>\n",
       "      <th>0</th>\n",
       "      <td>2021-01-01</td>\n",
       "      <td>250</td>\n",
       "    </tr>\n",
       "    <tr>\n",
       "      <th>1</th>\n",
       "      <td>2021-01-01</td>\n",
       "      <td>250</td>\n",
       "    </tr>\n",
       "    <tr>\n",
       "      <th>2</th>\n",
       "      <td>2021-01-01</td>\n",
       "      <td>250</td>\n",
       "    </tr>\n",
       "    <tr>\n",
       "      <th>3</th>\n",
       "      <td>2021-01-01</td>\n",
       "      <td>250</td>\n",
       "    </tr>\n",
       "    <tr>\n",
       "      <th>4</th>\n",
       "      <td>2021-01-01</td>\n",
       "      <td>100</td>\n",
       "    </tr>\n",
       "  </tbody>\n",
       "</table>\n",
       "</div>"
      ],
      "text/plain": [
       "  transac_date  donation\n",
       "0   2021-01-01       250\n",
       "1   2021-01-01       250\n",
       "2   2021-01-01       250\n",
       "3   2021-01-01       250\n",
       "4   2021-01-01       100"
      ]
     },
     "execution_count": 21,
     "metadata": {},
     "output_type": "execute_result"
    }
   ],
   "source": [
    "df_ARI.head()"
   ]
  },
  {
   "cell_type": "code",
   "execution_count": 24,
   "id": "40d63841-45bf-42f6-bac3-7b1991995c55",
   "metadata": {
    "tags": []
   },
   "outputs": [
    {
     "name": "stdout",
     "output_type": "stream",
     "text": [
      "<class 'pandas.core.frame.DataFrame'>\n",
      "Index: 45520236 entries, 0 to 45520251\n",
      "Data columns (total 2 columns):\n",
      " #   Column        Dtype         \n",
      "---  ------        -----         \n",
      " 0   transac_date  datetime64[ns]\n",
      " 1   donation      int64         \n",
      "dtypes: datetime64[ns](1), int64(1)\n",
      "memory usage: 2.0 GB\n"
     ]
    }
   ],
   "source": [
    "df_ARI.info()"
   ]
  },
  {
   "cell_type": "code",
   "execution_count": null,
   "id": "36631fd3-31c1-4066-8eb5-2d93eec5314d",
   "metadata": {},
   "outputs": [],
   "source": [
    "# Set 'transac_date' as the index\n",
    "df_ARI.set_index('transac_date', inplace=True)"
   ]
  },
  {
   "cell_type": "code",
   "execution_count": 27,
   "id": "c39e439f-d603-4e47-9519-9869dee27659",
   "metadata": {
    "tags": []
   },
   "outputs": [
    {
     "data": {
      "text/html": [
       "<div>\n",
       "<style scoped>\n",
       "    .dataframe tbody tr th:only-of-type {\n",
       "        vertical-align: middle;\n",
       "    }\n",
       "\n",
       "    .dataframe tbody tr th {\n",
       "        vertical-align: top;\n",
       "    }\n",
       "\n",
       "    .dataframe thead th {\n",
       "        text-align: right;\n",
       "    }\n",
       "</style>\n",
       "<table border=\"1\" class=\"dataframe\">\n",
       "  <thead>\n",
       "    <tr style=\"text-align: right;\">\n",
       "      <th></th>\n",
       "      <th>donation</th>\n",
       "    </tr>\n",
       "    <tr>\n",
       "      <th>transac_date</th>\n",
       "      <th></th>\n",
       "    </tr>\n",
       "  </thead>\n",
       "  <tbody>\n",
       "    <tr>\n",
       "      <th>2021-01-01</th>\n",
       "      <td>250</td>\n",
       "    </tr>\n",
       "    <tr>\n",
       "      <th>2021-01-01</th>\n",
       "      <td>250</td>\n",
       "    </tr>\n",
       "    <tr>\n",
       "      <th>2021-01-01</th>\n",
       "      <td>250</td>\n",
       "    </tr>\n",
       "    <tr>\n",
       "      <th>2021-01-01</th>\n",
       "      <td>250</td>\n",
       "    </tr>\n",
       "    <tr>\n",
       "      <th>2021-01-01</th>\n",
       "      <td>100</td>\n",
       "    </tr>\n",
       "  </tbody>\n",
       "</table>\n",
       "</div>"
      ],
      "text/plain": [
       "              donation\n",
       "transac_date          \n",
       "2021-01-01         250\n",
       "2021-01-01         250\n",
       "2021-01-01         250\n",
       "2021-01-01         250\n",
       "2021-01-01         100"
      ]
     },
     "execution_count": 27,
     "metadata": {},
     "output_type": "execute_result"
    }
   ],
   "source": [
    "df_ARI.head()"
   ]
  },
  {
   "cell_type": "code",
   "execution_count": 142,
   "id": "00b38d94-4f1a-4e10-9bf9-b33d40f3c7b3",
   "metadata": {
    "tags": []
   },
   "outputs": [
    {
     "name": "stdout",
     "output_type": "stream",
     "text": [
      "               donation\n",
      "transac_date           \n",
      "2017-01-31      4994669\n",
      "2017-02-28      8448738\n",
      "2017-03-31     15803863\n",
      "2017-04-30     12226604\n",
      "2017-05-31     16254033\n",
      "...                 ...\n",
      "2022-08-31     74973974\n",
      "2022-09-30    106858076\n",
      "2022-10-31    150459876\n",
      "2022-11-30     89132774\n",
      "2022-12-31     14938122\n",
      "\n",
      "[72 rows x 1 columns]\n"
     ]
    }
   ],
   "source": [
    "# Resample the data on a monthly basis and calculate the monthly sum\n",
    "monthly_sum = df_ARI.resample('M').sum()\n",
    "\n",
    "# Print the resulting DataFrame\n",
    "print(monthly_sum)"
   ]
  },
  {
   "cell_type": "code",
   "execution_count": 143,
   "id": "b098ac02-9c11-4498-bc9b-d21e2ca7ab2a",
   "metadata": {
    "tags": []
   },
   "outputs": [
    {
     "data": {
      "image/png": "[encoded data removed]",
      "text/plain": [
       "<Figure size 640x480 with 1 Axes>"
      ]
     },
     "metadata": {},
     "output_type": "display_data"
    }
   ],
   "source": [
    "plt.plot(monthly_sum.index, monthly_sum.donation, marker='o', linestyle='-')\n",
    "plt.xlabel('Date')\n",
    "plt.ylabel('Monthly Donation Amount')\n",
    "plt.title('Monthly Donation Amount')\n",
    "\n",
    "# Display the plot\n",
    "plt.show()"
   ]
  },
  {
   "cell_type": "code",
   "execution_count": 144,
   "id": "1cfdb6a0-a703-4f01-97bf-d5539a51af87",
   "metadata": {
    "tags": []
   },
   "outputs": [
    {
     "data": {
      "text/html": [
       "<div>\n",
       "<style scoped>\n",
       "    .dataframe tbody tr th:only-of-type {\n",
       "        vertical-align: middle;\n",
       "    }\n",
       "\n",
       "    .dataframe tbody tr th {\n",
       "        vertical-align: top;\n",
       "    }\n",
       "\n",
       "    .dataframe thead th {\n",
       "        text-align: right;\n",
       "    }\n",
       "</style>\n",
       "<table border=\"1\" class=\"dataframe\">\n",
       "  <thead>\n",
       "    <tr style=\"text-align: right;\">\n",
       "      <th></th>\n",
       "      <th>donation</th>\n",
       "    </tr>\n",
       "    <tr>\n",
       "      <th>transac_date</th>\n",
       "      <th></th>\n",
       "    </tr>\n",
       "  </thead>\n",
       "  <tbody>\n",
       "    <tr>\n",
       "      <th>2017-01-31</th>\n",
       "      <td>4994669</td>\n",
       "    </tr>\n",
       "    <tr>\n",
       "      <th>2017-02-28</th>\n",
       "      <td>8448738</td>\n",
       "    </tr>\n",
       "    <tr>\n",
       "      <th>2017-03-31</th>\n",
       "      <td>15803863</td>\n",
       "    </tr>\n",
       "    <tr>\n",
       "      <th>2017-04-30</th>\n",
       "      <td>12226604</td>\n",
       "    </tr>\n",
       "    <tr>\n",
       "      <th>2017-05-31</th>\n",
       "      <td>16254033</td>\n",
       "    </tr>\n",
       "    <tr>\n",
       "      <th>...</th>\n",
       "      <td>...</td>\n",
       "    </tr>\n",
       "    <tr>\n",
       "      <th>2022-08-31</th>\n",
       "      <td>74973974</td>\n",
       "    </tr>\n",
       "    <tr>\n",
       "      <th>2022-09-30</th>\n",
       "      <td>106858076</td>\n",
       "    </tr>\n",
       "    <tr>\n",
       "      <th>2022-10-31</th>\n",
       "      <td>150459876</td>\n",
       "    </tr>\n",
       "    <tr>\n",
       "      <th>2022-11-30</th>\n",
       "      <td>89132774</td>\n",
       "    </tr>\n",
       "    <tr>\n",
       "      <th>2022-12-31</th>\n",
       "      <td>14938122</td>\n",
       "    </tr>\n",
       "  </tbody>\n",
       "</table>\n",
       "<p>72 rows × 1 columns</p>\n",
       "</div>"
      ],
      "text/plain": [
       "               donation\n",
       "transac_date           \n",
       "2017-01-31      4994669\n",
       "2017-02-28      8448738\n",
       "2017-03-31     15803863\n",
       "2017-04-30     12226604\n",
       "2017-05-31     16254033\n",
       "...                 ...\n",
       "2022-08-31     74973974\n",
       "2022-09-30    106858076\n",
       "2022-10-31    150459876\n",
       "2022-11-30     89132774\n",
       "2022-12-31     14938122\n",
       "\n",
       "[72 rows x 1 columns]"
      ]
     },
     "execution_count": 144,
     "metadata": {},
     "output_type": "execute_result"
    }
   ],
   "source": [
    "df_month = monthly_sum\n",
    "df_month"
   ]
  },
  {
   "cell_type": "code",
   "execution_count": 145,
   "id": "f5fb6191-70dc-4294-83f3-ffb2f67e1675",
   "metadata": {
    "tags": []
   },
   "outputs": [
    {
     "data": {
      "text/plain": [
       "72"
      ]
     },
     "execution_count": 145,
     "metadata": {},
     "output_type": "execute_result"
    }
   ],
   "source": [
    "len(df_month)"
   ]
  },
  {
   "cell_type": "code",
   "execution_count": 146,
   "id": "6a7f55b3-1534-4074-b232-13d7c1d2ae3a",
   "metadata": {
    "tags": []
   },
   "outputs": [
    {
     "data": {
      "text/plain": [
       "4994669"
      ]
     },
     "execution_count": 146,
     "metadata": {},
     "output_type": "execute_result"
    }
   ],
   "source": [
    "df_month.donation.min()"
   ]
  },
  {
   "cell_type": "code",
   "execution_count": 147,
   "id": "e3a84b43-d06e-4057-bac6-3baf358e7bd8",
   "metadata": {
    "tags": []
   },
   "outputs": [
    {
     "data": {
      "text/plain": [
       "361568047"
      ]
     },
     "execution_count": 147,
     "metadata": {},
     "output_type": "execute_result"
    }
   ],
   "source": [
    "df_month.donation.max()"
   ]
  },
  {
   "cell_type": "code",
   "execution_count": 148,
   "id": "5f72767d-0383-4f67-907f-efb8776a583c",
   "metadata": {
    "tags": []
   },
   "outputs": [
    {
     "name": "stdout",
     "output_type": "stream",
     "text": [
      "The 'transac_date' value of the 57th row is: 2021-09-30 00:00:00\n"
     ]
    }
   ],
   "source": [
    "# Retrieve the 'transac_date' value for the 57th row\n",
    "date_of_57th_row = df_month.index[56]  # Python uses zero-based indexing, so the 57th row corresponds to index 56\n",
    "\n",
    "print(\"The 'transac_date' value of the 57th row is:\", date_of_57th_row)"
   ]
  },
  {
   "cell_type": "code",
   "execution_count": 149,
   "id": "1a54b83c-d363-4344-bd40-288c6fdc1429",
   "metadata": {
    "tags": []
   },
   "outputs": [],
   "source": [
    "'''linear regression model to predict the yearly average price'''\n",
    "from sklearn.model_selection import train_test_split\n",
    "\n",
    "lr_data_month = {\n",
    "    \"donation month-3\": df_month.shift(3)[\"donation\"],\n",
    "    \"donation month-2\": df_month.shift(2)[\"donation\"],\n",
    "    \"donation month-1\": df_month.shift(1)[\"donation\"],\n",
    "    \"donation\": df_month[\"donation\"]\n",
    "}\n",
    "lr_df_month = pd.DataFrame(lr_data_month).dropna()\n",
    "\n",
    "df_train = lr_df_month[lr_df_month.index <= '2021-09-30']\n",
    "df_test = lr_df_month[lr_df_month.index > '2021-09-30']\n",
    "\n",
    "X_train, y_train = df_train.iloc[:, :3], df_train[\"donation\"]\n",
    "X_test, y_test = df_test.iloc[:, :3], df_test[\"donation\"]"
   ]
  },
  {
   "cell_type": "code",
   "execution_count": 150,
   "id": "b44e7787-538e-4cde-a2ac-a3d167e27df5",
   "metadata": {
    "tags": []
   },
   "outputs": [
    {
     "data": {
      "text/html": [
       "<div>\n",
       "<style scoped>\n",
       "    .dataframe tbody tr th:only-of-type {\n",
       "        vertical-align: middle;\n",
       "    }\n",
       "\n",
       "    .dataframe tbody tr th {\n",
       "        vertical-align: top;\n",
       "    }\n",
       "\n",
       "    .dataframe thead th {\n",
       "        text-align: right;\n",
       "    }\n",
       "</style>\n",
       "<table border=\"1\" class=\"dataframe\">\n",
       "  <thead>\n",
       "    <tr style=\"text-align: right;\">\n",
       "      <th></th>\n",
       "      <th>donation month-3</th>\n",
       "      <th>donation month-2</th>\n",
       "      <th>donation month-1</th>\n",
       "      <th>donation</th>\n",
       "    </tr>\n",
       "    <tr>\n",
       "      <th>transac_date</th>\n",
       "      <th></th>\n",
       "      <th></th>\n",
       "      <th></th>\n",
       "      <th></th>\n",
       "    </tr>\n",
       "  </thead>\n",
       "  <tbody>\n",
       "    <tr>\n",
       "      <th>2017-04-30</th>\n",
       "      <td>4994669.0</td>\n",
       "      <td>8448738.0</td>\n",
       "      <td>15803863.0</td>\n",
       "      <td>12226604</td>\n",
       "    </tr>\n",
       "    <tr>\n",
       "      <th>2017-05-31</th>\n",
       "      <td>8448738.0</td>\n",
       "      <td>15803863.0</td>\n",
       "      <td>12226604.0</td>\n",
       "      <td>16254033</td>\n",
       "    </tr>\n",
       "    <tr>\n",
       "      <th>2017-06-30</th>\n",
       "      <td>15803863.0</td>\n",
       "      <td>12226604.0</td>\n",
       "      <td>16254033.0</td>\n",
       "      <td>19888368</td>\n",
       "    </tr>\n",
       "    <tr>\n",
       "      <th>2017-07-31</th>\n",
       "      <td>12226604.0</td>\n",
       "      <td>16254033.0</td>\n",
       "      <td>19888368.0</td>\n",
       "      <td>9142026</td>\n",
       "    </tr>\n",
       "    <tr>\n",
       "      <th>2017-08-31</th>\n",
       "      <td>16254033.0</td>\n",
       "      <td>19888368.0</td>\n",
       "      <td>9142026.0</td>\n",
       "      <td>11257800</td>\n",
       "    </tr>\n",
       "  </tbody>\n",
       "</table>\n",
       "</div>"
      ],
      "text/plain": [
       "              donation month-3  donation month-2  donation month-1  donation\n",
       "transac_date                                                                \n",
       "2017-04-30           4994669.0         8448738.0        15803863.0  12226604\n",
       "2017-05-31           8448738.0        15803863.0        12226604.0  16254033\n",
       "2017-06-30          15803863.0        12226604.0        16254033.0  19888368\n",
       "2017-07-31          12226604.0        16254033.0        19888368.0   9142026\n",
       "2017-08-31          16254033.0        19888368.0         9142026.0  11257800"
      ]
     },
     "execution_count": 150,
     "metadata": {},
     "output_type": "execute_result"
    }
   ],
   "source": [
    "lr_df_month.head()"
   ]
  },
  {
   "cell_type": "code",
   "execution_count": 151,
   "id": "14d950c6-43f2-4bea-a7f8-2f3c6f5881c5",
   "metadata": {
    "tags": []
   },
   "outputs": [
    {
     "data": {
      "text/html": [
       "<div>\n",
       "<style scoped>\n",
       "    .dataframe tbody tr th:only-of-type {\n",
       "        vertical-align: middle;\n",
       "    }\n",
       "\n",
       "    .dataframe tbody tr th {\n",
       "        vertical-align: top;\n",
       "    }\n",
       "\n",
       "    .dataframe thead th {\n",
       "        text-align: right;\n",
       "    }\n",
       "</style>\n",
       "<table border=\"1\" class=\"dataframe\">\n",
       "  <thead>\n",
       "    <tr style=\"text-align: right;\">\n",
       "      <th></th>\n",
       "      <th>donation month-3</th>\n",
       "      <th>donation month-2</th>\n",
       "      <th>donation month-1</th>\n",
       "      <th>donation</th>\n",
       "    </tr>\n",
       "    <tr>\n",
       "      <th>transac_date</th>\n",
       "      <th></th>\n",
       "      <th></th>\n",
       "      <th></th>\n",
       "      <th></th>\n",
       "    </tr>\n",
       "  </thead>\n",
       "  <tbody>\n",
       "    <tr>\n",
       "      <th>2017-04-30</th>\n",
       "      <td>4994669.0</td>\n",
       "      <td>8448738.0</td>\n",
       "      <td>15803863.0</td>\n",
       "      <td>12226604</td>\n",
       "    </tr>\n",
       "    <tr>\n",
       "      <th>2017-05-31</th>\n",
       "      <td>8448738.0</td>\n",
       "      <td>15803863.0</td>\n",
       "      <td>12226604.0</td>\n",
       "      <td>16254033</td>\n",
       "    </tr>\n",
       "    <tr>\n",
       "      <th>2017-06-30</th>\n",
       "      <td>15803863.0</td>\n",
       "      <td>12226604.0</td>\n",
       "      <td>16254033.0</td>\n",
       "      <td>19888368</td>\n",
       "    </tr>\n",
       "    <tr>\n",
       "      <th>2017-07-31</th>\n",
       "      <td>12226604.0</td>\n",
       "      <td>16254033.0</td>\n",
       "      <td>19888368.0</td>\n",
       "      <td>9142026</td>\n",
       "    </tr>\n",
       "    <tr>\n",
       "      <th>2017-08-31</th>\n",
       "      <td>16254033.0</td>\n",
       "      <td>19888368.0</td>\n",
       "      <td>9142026.0</td>\n",
       "      <td>11257800</td>\n",
       "    </tr>\n",
       "    <tr>\n",
       "      <th>2017-09-30</th>\n",
       "      <td>19888368.0</td>\n",
       "      <td>9142026.0</td>\n",
       "      <td>11257800.0</td>\n",
       "      <td>21118567</td>\n",
       "    </tr>\n",
       "    <tr>\n",
       "      <th>2017-10-31</th>\n",
       "      <td>9142026.0</td>\n",
       "      <td>11257800.0</td>\n",
       "      <td>21118567.0</td>\n",
       "      <td>16038775</td>\n",
       "    </tr>\n",
       "    <tr>\n",
       "      <th>2017-11-30</th>\n",
       "      <td>11257800.0</td>\n",
       "      <td>21118567.0</td>\n",
       "      <td>16038775.0</td>\n",
       "      <td>18762207</td>\n",
       "    </tr>\n",
       "    <tr>\n",
       "      <th>2017-12-31</th>\n",
       "      <td>21118567.0</td>\n",
       "      <td>16038775.0</td>\n",
       "      <td>18762207.0</td>\n",
       "      <td>27982059</td>\n",
       "    </tr>\n",
       "    <tr>\n",
       "      <th>2018-01-31</th>\n",
       "      <td>16038775.0</td>\n",
       "      <td>18762207.0</td>\n",
       "      <td>27982059.0</td>\n",
       "      <td>12765970</td>\n",
       "    </tr>\n",
       "    <tr>\n",
       "      <th>2018-02-28</th>\n",
       "      <td>18762207.0</td>\n",
       "      <td>27982059.0</td>\n",
       "      <td>12765970.0</td>\n",
       "      <td>18289125</td>\n",
       "    </tr>\n",
       "    <tr>\n",
       "      <th>2018-03-31</th>\n",
       "      <td>27982059.0</td>\n",
       "      <td>12765970.0</td>\n",
       "      <td>18289125.0</td>\n",
       "      <td>32202449</td>\n",
       "    </tr>\n",
       "    <tr>\n",
       "      <th>2018-04-30</th>\n",
       "      <td>12765970.0</td>\n",
       "      <td>18289125.0</td>\n",
       "      <td>32202449.0</td>\n",
       "      <td>19423429</td>\n",
       "    </tr>\n",
       "    <tr>\n",
       "      <th>2018-05-31</th>\n",
       "      <td>18289125.0</td>\n",
       "      <td>32202449.0</td>\n",
       "      <td>19423429.0</td>\n",
       "      <td>24816595</td>\n",
       "    </tr>\n",
       "    <tr>\n",
       "      <th>2018-06-30</th>\n",
       "      <td>32202449.0</td>\n",
       "      <td>19423429.0</td>\n",
       "      <td>24816595.0</td>\n",
       "      <td>36123401</td>\n",
       "    </tr>\n",
       "    <tr>\n",
       "      <th>2018-07-31</th>\n",
       "      <td>19423429.0</td>\n",
       "      <td>24816595.0</td>\n",
       "      <td>36123401.0</td>\n",
       "      <td>32247697</td>\n",
       "    </tr>\n",
       "    <tr>\n",
       "      <th>2018-08-31</th>\n",
       "      <td>24816595.0</td>\n",
       "      <td>36123401.0</td>\n",
       "      <td>32247697.0</td>\n",
       "      <td>51751036</td>\n",
       "    </tr>\n",
       "    <tr>\n",
       "      <th>2018-09-30</th>\n",
       "      <td>36123401.0</td>\n",
       "      <td>32247697.0</td>\n",
       "      <td>51751036.0</td>\n",
       "      <td>90766808</td>\n",
       "    </tr>\n",
       "    <tr>\n",
       "      <th>2018-10-31</th>\n",
       "      <td>32247697.0</td>\n",
       "      <td>51751036.0</td>\n",
       "      <td>90766808.0</td>\n",
       "      <td>117653309</td>\n",
       "    </tr>\n",
       "    <tr>\n",
       "      <th>2018-11-30</th>\n",
       "      <td>51751036.0</td>\n",
       "      <td>90766808.0</td>\n",
       "      <td>117653309.0</td>\n",
       "      <td>28645614</td>\n",
       "    </tr>\n",
       "    <tr>\n",
       "      <th>2018-12-31</th>\n",
       "      <td>90766808.0</td>\n",
       "      <td>117653309.0</td>\n",
       "      <td>28645614.0</td>\n",
       "      <td>8878549</td>\n",
       "    </tr>\n",
       "    <tr>\n",
       "      <th>2019-01-31</th>\n",
       "      <td>117653309.0</td>\n",
       "      <td>28645614.0</td>\n",
       "      <td>8878549.0</td>\n",
       "      <td>12016155</td>\n",
       "    </tr>\n",
       "    <tr>\n",
       "      <th>2019-02-28</th>\n",
       "      <td>28645614.0</td>\n",
       "      <td>8878549.0</td>\n",
       "      <td>12016155.0</td>\n",
       "      <td>20465276</td>\n",
       "    </tr>\n",
       "    <tr>\n",
       "      <th>2019-03-31</th>\n",
       "      <td>8878549.0</td>\n",
       "      <td>12016155.0</td>\n",
       "      <td>20465276.0</td>\n",
       "      <td>37973674</td>\n",
       "    </tr>\n",
       "    <tr>\n",
       "      <th>2019-04-30</th>\n",
       "      <td>12016155.0</td>\n",
       "      <td>20465276.0</td>\n",
       "      <td>37973674.0</td>\n",
       "      <td>29560845</td>\n",
       "    </tr>\n",
       "    <tr>\n",
       "      <th>2019-05-31</th>\n",
       "      <td>20465276.0</td>\n",
       "      <td>37973674.0</td>\n",
       "      <td>29560845.0</td>\n",
       "      <td>28385122</td>\n",
       "    </tr>\n",
       "    <tr>\n",
       "      <th>2019-06-30</th>\n",
       "      <td>37973674.0</td>\n",
       "      <td>29560845.0</td>\n",
       "      <td>28385122.0</td>\n",
       "      <td>40044337</td>\n",
       "    </tr>\n",
       "    <tr>\n",
       "      <th>2019-07-31</th>\n",
       "      <td>29560845.0</td>\n",
       "      <td>28385122.0</td>\n",
       "      <td>40044337.0</td>\n",
       "      <td>34119163</td>\n",
       "    </tr>\n",
       "    <tr>\n",
       "      <th>2019-08-31</th>\n",
       "      <td>28385122.0</td>\n",
       "      <td>40044337.0</td>\n",
       "      <td>34119163.0</td>\n",
       "      <td>36579241</td>\n",
       "    </tr>\n",
       "    <tr>\n",
       "      <th>2019-09-30</th>\n",
       "      <td>40044337.0</td>\n",
       "      <td>34119163.0</td>\n",
       "      <td>36579241.0</td>\n",
       "      <td>57256306</td>\n",
       "    </tr>\n",
       "    <tr>\n",
       "      <th>2019-10-31</th>\n",
       "      <td>34119163.0</td>\n",
       "      <td>36579241.0</td>\n",
       "      <td>57256306.0</td>\n",
       "      <td>44599878</td>\n",
       "    </tr>\n",
       "    <tr>\n",
       "      <th>2019-11-30</th>\n",
       "      <td>36579241.0</td>\n",
       "      <td>57256306.0</td>\n",
       "      <td>44599878.0</td>\n",
       "      <td>42476810</td>\n",
       "    </tr>\n",
       "    <tr>\n",
       "      <th>2019-12-31</th>\n",
       "      <td>57256306.0</td>\n",
       "      <td>44599878.0</td>\n",
       "      <td>42476810.0</td>\n",
       "      <td>62968450</td>\n",
       "    </tr>\n",
       "    <tr>\n",
       "      <th>2020-01-31</th>\n",
       "      <td>44599878.0</td>\n",
       "      <td>42476810.0</td>\n",
       "      <td>62968450.0</td>\n",
       "      <td>38168771</td>\n",
       "    </tr>\n",
       "    <tr>\n",
       "      <th>2020-02-29</th>\n",
       "      <td>42476810.0</td>\n",
       "      <td>62968450.0</td>\n",
       "      <td>38168771.0</td>\n",
       "      <td>83585950</td>\n",
       "    </tr>\n",
       "    <tr>\n",
       "      <th>2020-03-31</th>\n",
       "      <td>62968450.0</td>\n",
       "      <td>38168771.0</td>\n",
       "      <td>83585950.0</td>\n",
       "      <td>70064109</td>\n",
       "    </tr>\n",
       "    <tr>\n",
       "      <th>2020-04-30</th>\n",
       "      <td>38168771.0</td>\n",
       "      <td>83585950.0</td>\n",
       "      <td>70064109.0</td>\n",
       "      <td>46082609</td>\n",
       "    </tr>\n",
       "    <tr>\n",
       "      <th>2020-05-31</th>\n",
       "      <td>83585950.0</td>\n",
       "      <td>70064109.0</td>\n",
       "      <td>46082609.0</td>\n",
       "      <td>60204734</td>\n",
       "    </tr>\n",
       "    <tr>\n",
       "      <th>2020-06-30</th>\n",
       "      <td>70064109.0</td>\n",
       "      <td>46082609.0</td>\n",
       "      <td>60204734.0</td>\n",
       "      <td>103046109</td>\n",
       "    </tr>\n",
       "    <tr>\n",
       "      <th>2020-07-31</th>\n",
       "      <td>46082609.0</td>\n",
       "      <td>60204734.0</td>\n",
       "      <td>103046109.0</td>\n",
       "      <td>94786861</td>\n",
       "    </tr>\n",
       "    <tr>\n",
       "      <th>2020-08-31</th>\n",
       "      <td>60204734.0</td>\n",
       "      <td>103046109.0</td>\n",
       "      <td>94786861.0</td>\n",
       "      <td>221744544</td>\n",
       "    </tr>\n",
       "    <tr>\n",
       "      <th>2020-09-30</th>\n",
       "      <td>103046109.0</td>\n",
       "      <td>94786861.0</td>\n",
       "      <td>221744544.0</td>\n",
       "      <td>361568047</td>\n",
       "    </tr>\n",
       "    <tr>\n",
       "      <th>2020-10-31</th>\n",
       "      <td>94786861.0</td>\n",
       "      <td>221744544.0</td>\n",
       "      <td>361568047.0</td>\n",
       "      <td>342293656</td>\n",
       "    </tr>\n",
       "    <tr>\n",
       "      <th>2020-11-30</th>\n",
       "      <td>221744544.0</td>\n",
       "      <td>361568047.0</td>\n",
       "      <td>342293656.0</td>\n",
       "      <td>150431062</td>\n",
       "    </tr>\n",
       "    <tr>\n",
       "      <th>2020-12-31</th>\n",
       "      <td>361568047.0</td>\n",
       "      <td>342293656.0</td>\n",
       "      <td>150431062.0</td>\n",
       "      <td>78390385</td>\n",
       "    </tr>\n",
       "    <tr>\n",
       "      <th>2021-01-31</th>\n",
       "      <td>342293656.0</td>\n",
       "      <td>150431062.0</td>\n",
       "      <td>78390385.0</td>\n",
       "      <td>18848777</td>\n",
       "    </tr>\n",
       "    <tr>\n",
       "      <th>2021-02-28</th>\n",
       "      <td>150431062.0</td>\n",
       "      <td>78390385.0</td>\n",
       "      <td>18848777.0</td>\n",
       "      <td>24897470</td>\n",
       "    </tr>\n",
       "    <tr>\n",
       "      <th>2021-03-31</th>\n",
       "      <td>78390385.0</td>\n",
       "      <td>18848777.0</td>\n",
       "      <td>24897470.0</td>\n",
       "      <td>39237226</td>\n",
       "    </tr>\n",
       "    <tr>\n",
       "      <th>2021-04-30</th>\n",
       "      <td>18848777.0</td>\n",
       "      <td>24897470.0</td>\n",
       "      <td>39237226.0</td>\n",
       "      <td>24730963</td>\n",
       "    </tr>\n",
       "    <tr>\n",
       "      <th>2021-05-31</th>\n",
       "      <td>24897470.0</td>\n",
       "      <td>39237226.0</td>\n",
       "      <td>24730963.0</td>\n",
       "      <td>25274086</td>\n",
       "    </tr>\n",
       "    <tr>\n",
       "      <th>2021-06-30</th>\n",
       "      <td>39237226.0</td>\n",
       "      <td>24730963.0</td>\n",
       "      <td>25274086.0</td>\n",
       "      <td>37408775</td>\n",
       "    </tr>\n",
       "    <tr>\n",
       "      <th>2021-07-31</th>\n",
       "      <td>24730963.0</td>\n",
       "      <td>25274086.0</td>\n",
       "      <td>37408775.0</td>\n",
       "      <td>30461521</td>\n",
       "    </tr>\n",
       "    <tr>\n",
       "      <th>2021-08-31</th>\n",
       "      <td>25274086.0</td>\n",
       "      <td>37408775.0</td>\n",
       "      <td>30461521.0</td>\n",
       "      <td>31717289</td>\n",
       "    </tr>\n",
       "    <tr>\n",
       "      <th>2021-09-30</th>\n",
       "      <td>37408775.0</td>\n",
       "      <td>30461521.0</td>\n",
       "      <td>31717289.0</td>\n",
       "      <td>45679597</td>\n",
       "    </tr>\n",
       "  </tbody>\n",
       "</table>\n",
       "</div>"
      ],
      "text/plain": [
       "              donation month-3  donation month-2  donation month-1   donation\n",
       "transac_date                                                                 \n",
       "2017-04-30           4994669.0         8448738.0        15803863.0   12226604\n",
       "2017-05-31           8448738.0        15803863.0        12226604.0   16254033\n",
       "2017-06-30          15803863.0        12226604.0        16254033.0   19888368\n",
       "2017-07-31          12226604.0        16254033.0        19888368.0    9142026\n",
       "2017-08-31          16254033.0        19888368.0         9142026.0   11257800\n",
       "2017-09-30          19888368.0         9142026.0        11257800.0   21118567\n",
       "2017-10-31           9142026.0        11257800.0        21118567.0   16038775\n",
       "2017-11-30          11257800.0        21118567.0        16038775.0   18762207\n",
       "2017-12-31          21118567.0        16038775.0        18762207.0   27982059\n",
       "2018-01-31          16038775.0        18762207.0        27982059.0   12765970\n",
       "2018-02-28          18762207.0        27982059.0        12765970.0   18289125\n",
       "2018-03-31          27982059.0        12765970.0        18289125.0   32202449\n",
       "2018-04-30          12765970.0        18289125.0        32202449.0   19423429\n",
       "2018-05-31          18289125.0        32202449.0        19423429.0   24816595\n",
       "2018-06-30          32202449.0        19423429.0        24816595.0   36123401\n",
       "2018-07-31          19423429.0        24816595.0        36123401.0   32247697\n",
       "2018-08-31          24816595.0        36123401.0        32247697.0   51751036\n",
       "2018-09-30          36123401.0        32247697.0        51751036.0   90766808\n",
       "2018-10-31          32247697.0        51751036.0        90766808.0  117653309\n",
       "2018-11-30          51751036.0        90766808.0       117653309.0   28645614\n",
       "2018-12-31          90766808.0       117653309.0        28645614.0    8878549\n",
       "2019-01-31         117653309.0        28645614.0         8878549.0   12016155\n",
       "2019-02-28          28645614.0         8878549.0        12016155.0   20465276\n",
       "2019-03-31           8878549.0        12016155.0        20465276.0   37973674\n",
       "2019-04-30          12016155.0        20465276.0        37973674.0   29560845\n",
       "2019-05-31          20465276.0        37973674.0        29560845.0   28385122\n",
       "2019-06-30          37973674.0        29560845.0        28385122.0   40044337\n",
       "2019-07-31          29560845.0        28385122.0        40044337.0   34119163\n",
       "2019-08-31          28385122.0        40044337.0        34119163.0   36579241\n",
       "2019-09-30          40044337.0        34119163.0        36579241.0   57256306\n",
       "2019-10-31          34119163.0        36579241.0        57256306.0   44599878\n",
       "2019-11-30          36579241.0        57256306.0        44599878.0   42476810\n",
       "2019-12-31          57256306.0        44599878.0        42476810.0   62968450\n",
       "2020-01-31          44599878.0        42476810.0        62968450.0   38168771\n",
       "2020-02-29          42476810.0        62968450.0        38168771.0   83585950\n",
       "2020-03-31          62968450.0        38168771.0        83585950.0   70064109\n",
       "2020-04-30          38168771.0        83585950.0        70064109.0   46082609\n",
       "2020-05-31          83585950.0        70064109.0        46082609.0   60204734\n",
       "2020-06-30          70064109.0        46082609.0        60204734.0  103046109\n",
       "2020-07-31          46082609.0        60204734.0       103046109.0   94786861\n",
       "2020-08-31          60204734.0       103046109.0        94786861.0  221744544\n",
       "2020-09-30         103046109.0        94786861.0       221744544.0  361568047\n",
       "2020-10-31          94786861.0       221744544.0       361568047.0  342293656\n",
       "2020-11-30         221744544.0       361568047.0       342293656.0  150431062\n",
       "2020-12-31         361568047.0       342293656.0       150431062.0   78390385\n",
       "2021-01-31         342293656.0       150431062.0        78390385.0   18848777\n",
       "2021-02-28         150431062.0        78390385.0        18848777.0   24897470\n",
       "2021-03-31          78390385.0        18848777.0        24897470.0   39237226\n",
       "2021-04-30          18848777.0        24897470.0        39237226.0   24730963\n",
       "2021-05-31          24897470.0        39237226.0        24730963.0   25274086\n",
       "2021-06-30          39237226.0        24730963.0        25274086.0   37408775\n",
       "2021-07-31          24730963.0        25274086.0        37408775.0   30461521\n",
       "2021-08-31          25274086.0        37408775.0        30461521.0   31717289\n",
       "2021-09-30          37408775.0        30461521.0        31717289.0   45679597"
      ]
     },
     "execution_count": 151,
     "metadata": {},
     "output_type": "execute_result"
    }
   ],
   "source": [
    "df_train"
   ]
  },
  {
   "cell_type": "code",
   "execution_count": 152,
   "id": "18e03dcf-3baa-4541-a26b-debcf1dc5286",
   "metadata": {
    "tags": []
   },
   "outputs": [
    {
     "data": {
      "text/html": [
       "<div>\n",
       "<style scoped>\n",
       "    .dataframe tbody tr th:only-of-type {\n",
       "        vertical-align: middle;\n",
       "    }\n",
       "\n",
       "    .dataframe tbody tr th {\n",
       "        vertical-align: top;\n",
       "    }\n",
       "\n",
       "    .dataframe thead th {\n",
       "        text-align: right;\n",
       "    }\n",
       "</style>\n",
       "<table border=\"1\" class=\"dataframe\">\n",
       "  <thead>\n",
       "    <tr style=\"text-align: right;\">\n",
       "      <th></th>\n",
       "      <th>donation month-3</th>\n",
       "      <th>donation month-2</th>\n",
       "      <th>donation month-1</th>\n",
       "      <th>donation</th>\n",
       "    </tr>\n",
       "    <tr>\n",
       "      <th>transac_date</th>\n",
       "      <th></th>\n",
       "      <th></th>\n",
       "      <th></th>\n",
       "      <th></th>\n",
       "    </tr>\n",
       "  </thead>\n",
       "  <tbody>\n",
       "    <tr>\n",
       "      <th>2021-10-31</th>\n",
       "      <td>30461521.0</td>\n",
       "      <td>31717289.0</td>\n",
       "      <td>45679597.0</td>\n",
       "      <td>35999454</td>\n",
       "    </tr>\n",
       "    <tr>\n",
       "      <th>2021-11-30</th>\n",
       "      <td>31717289.0</td>\n",
       "      <td>45679597.0</td>\n",
       "      <td>35999454.0</td>\n",
       "      <td>32689230</td>\n",
       "    </tr>\n",
       "    <tr>\n",
       "      <th>2021-12-31</th>\n",
       "      <td>45679597.0</td>\n",
       "      <td>35999454.0</td>\n",
       "      <td>32689230.0</td>\n",
       "      <td>48148823</td>\n",
       "    </tr>\n",
       "    <tr>\n",
       "      <th>2022-01-31</th>\n",
       "      <td>35999454.0</td>\n",
       "      <td>32689230.0</td>\n",
       "      <td>48148823.0</td>\n",
       "      <td>25448717</td>\n",
       "    </tr>\n",
       "    <tr>\n",
       "      <th>2022-02-28</th>\n",
       "      <td>32689230.0</td>\n",
       "      <td>48148823.0</td>\n",
       "      <td>25448717.0</td>\n",
       "      <td>31590373</td>\n",
       "    </tr>\n",
       "    <tr>\n",
       "      <th>2022-03-31</th>\n",
       "      <td>48148823.0</td>\n",
       "      <td>25448717.0</td>\n",
       "      <td>31590373.0</td>\n",
       "      <td>57673026</td>\n",
       "    </tr>\n",
       "    <tr>\n",
       "      <th>2022-04-30</th>\n",
       "      <td>25448717.0</td>\n",
       "      <td>31590373.0</td>\n",
       "      <td>57673026.0</td>\n",
       "      <td>35051277</td>\n",
       "    </tr>\n",
       "    <tr>\n",
       "      <th>2022-05-31</th>\n",
       "      <td>31590373.0</td>\n",
       "      <td>57673026.0</td>\n",
       "      <td>35051277.0</td>\n",
       "      <td>48683112</td>\n",
       "    </tr>\n",
       "    <tr>\n",
       "      <th>2022-06-30</th>\n",
       "      <td>57673026.0</td>\n",
       "      <td>35051277.0</td>\n",
       "      <td>48683112.0</td>\n",
       "      <td>62879250</td>\n",
       "    </tr>\n",
       "    <tr>\n",
       "      <th>2022-07-31</th>\n",
       "      <td>35051277.0</td>\n",
       "      <td>48683112.0</td>\n",
       "      <td>62879250.0</td>\n",
       "      <td>49968399</td>\n",
       "    </tr>\n",
       "    <tr>\n",
       "      <th>2022-08-31</th>\n",
       "      <td>48683112.0</td>\n",
       "      <td>62879250.0</td>\n",
       "      <td>49968399.0</td>\n",
       "      <td>74973974</td>\n",
       "    </tr>\n",
       "    <tr>\n",
       "      <th>2022-09-30</th>\n",
       "      <td>62879250.0</td>\n",
       "      <td>49968399.0</td>\n",
       "      <td>74973974.0</td>\n",
       "      <td>106858076</td>\n",
       "    </tr>\n",
       "    <tr>\n",
       "      <th>2022-10-31</th>\n",
       "      <td>49968399.0</td>\n",
       "      <td>74973974.0</td>\n",
       "      <td>106858076.0</td>\n",
       "      <td>150459876</td>\n",
       "    </tr>\n",
       "    <tr>\n",
       "      <th>2022-11-30</th>\n",
       "      <td>74973974.0</td>\n",
       "      <td>106858076.0</td>\n",
       "      <td>150459876.0</td>\n",
       "      <td>89132774</td>\n",
       "    </tr>\n",
       "    <tr>\n",
       "      <th>2022-12-31</th>\n",
       "      <td>106858076.0</td>\n",
       "      <td>150459876.0</td>\n",
       "      <td>89132774.0</td>\n",
       "      <td>14938122</td>\n",
       "    </tr>\n",
       "  </tbody>\n",
       "</table>\n",
       "</div>"
      ],
      "text/plain": [
       "              donation month-3  donation month-2  donation month-1   donation\n",
       "transac_date                                                                 \n",
       "2021-10-31          30461521.0        31717289.0        45679597.0   35999454\n",
       "2021-11-30          31717289.0        45679597.0        35999454.0   32689230\n",
       "2021-12-31          45679597.0        35999454.0        32689230.0   48148823\n",
       "2022-01-31          35999454.0        32689230.0        48148823.0   25448717\n",
       "2022-02-28          32689230.0        48148823.0        25448717.0   31590373\n",
       "2022-03-31          48148823.0        25448717.0        31590373.0   57673026\n",
       "2022-04-30          25448717.0        31590373.0        57673026.0   35051277\n",
       "2022-05-31          31590373.0        57673026.0        35051277.0   48683112\n",
       "2022-06-30          57673026.0        35051277.0        48683112.0   62879250\n",
       "2022-07-31          35051277.0        48683112.0        62879250.0   49968399\n",
       "2022-08-31          48683112.0        62879250.0        49968399.0   74973974\n",
       "2022-09-30          62879250.0        49968399.0        74973974.0  106858076\n",
       "2022-10-31          49968399.0        74973974.0       106858076.0  150459876\n",
       "2022-11-30          74973974.0       106858076.0       150459876.0   89132774\n",
       "2022-12-31         106858076.0       150459876.0        89132774.0   14938122"
      ]
     },
     "execution_count": 152,
     "metadata": {},
     "output_type": "execute_result"
    }
   ],
   "source": [
    "df_test"
   ]
  },
  {
   "cell_type": "code",
   "execution_count": 153,
   "id": "68c226c3-97e0-49e5-9a7a-cb403700b931",
   "metadata": {
    "tags": []
   },
   "outputs": [],
   "source": [
    "from sklearn.linear_model import LinearRegression\n",
    "from sklearn.pipeline import Pipeline\n",
    "from sklearn.metrics import mean_absolute_error, mean_squared_error, r2_score\n",
    "from sklearn.model_selection import train_test_split\n",
    "\n",
    "# train the model\n",
    "\n",
    "lr_model_month = LinearRegression()\n",
    "lr_model_month = lr_model_month.fit(X_train, y_train)"
   ]
  },
  {
   "cell_type": "code",
   "execution_count": 154,
   "id": "2d2beef5-0c06-456b-9c7d-643ff75a07e0",
   "metadata": {
    "tags": []
   },
   "outputs": [
    {
     "name": "stdout",
     "output_type": "stream",
     "text": [
      "train MAE: 2.18e+07\n",
      "train MSE: 1.28e+15\n",
      "train R2 score : 0.733\n"
     ]
    }
   ],
   "source": [
    "'''Train loss'''\n",
    "loss(\"train\", X_train, y_train, lr_model_month)"
   ]
  },
  {
   "cell_type": "code",
   "execution_count": 155,
   "id": "1a578fd7-6859-4796-b36c-12771eba1a4b",
   "metadata": {
    "tags": []
   },
   "outputs": [
    {
     "name": "stdout",
     "output_type": "stream",
     "text": [
      "test MAE: 2.31e+07\n",
      "test MSE: 7.48e+14\n",
      "test R2 score : 0.367\n"
     ]
    }
   ],
   "source": [
    "'''Test loss'''\n",
    "\n",
    "loss(\"test\", X_test, y_test, lr_model_month)"
   ]
  },
  {
   "cell_type": "code",
   "execution_count": 156,
   "id": "9cbc4fa3-7e9f-4280-9b0f-5979b206fd39",
   "metadata": {
    "tags": []
   },
   "outputs": [
    {
     "data": {
      "text/plain": [
       "Text(0, 0.5, 'y_test_pred')"
      ]
     },
     "execution_count": 156,
     "metadata": {},
     "output_type": "execute_result"
    },
    {
     "data": {
      "image/png": "[encoded data removed]",
      "text/plain": [
       "<Figure size 640x480 with 1 Axes>"
      ]
     },
     "metadata": {},
     "output_type": "display_data"
    }
   ],
   "source": [
    "plt.scatter(y_test, lr_model_month.predict(X_test), alpha = 0.3)\n",
    "plt.xlabel('y_test')\n",
    "plt.ylabel('y_test_pred')"
   ]
  },
  {
   "cell_type": "code",
   "execution_count": 159,
   "id": "a5f1bbb6-f716-4ddc-bbfe-e8fd6d05eebe",
   "metadata": {
    "tags": []
   },
   "outputs": [
    {
     "data": {
      "text/plain": [
       "<matplotlib.legend.Legend at 0x7f841a069bb0>"
      ]
     },
     "execution_count": 159,
     "metadata": {},
     "output_type": "execute_result"
    },
    {
     "data": {
      "image/png": "[encoded data removed]",
      "text/plain": [
       "<Figure size 640x480 with 1 Axes>"
      ]
     },
     "metadata": {},
     "output_type": "display_data"
    }
   ],
   "source": [
    "# Plot the prediction and ground truth of monthly culmulative doantion amount against time.\n",
    "\n",
    "'''Train'''\n",
    "\n",
    "plt.scatter(X_train.index, y_train, color=\"b\", label=\"truth\")\n",
    "plt.scatter(X_train.index, lr_model_month.predict(X_train), color=\"r\", label=\"prediction\")\n",
    "plt.xlabel(\"Month\")\n",
    "plt.ylabel(\"Monthly donation\")\n",
    "plt.title(\"Train Data\")\n",
    "plt.legend()"
   ]
  },
  {
   "cell_type": "code",
   "execution_count": 160,
   "id": "a8b922c8-511b-4a67-9637-7aab02d34e3e",
   "metadata": {
    "tags": []
   },
   "outputs": [
    {
     "data": {
      "text/plain": [
       "<matplotlib.legend.Legend at 0x7f841a3853d0>"
      ]
     },
     "execution_count": 160,
     "metadata": {},
     "output_type": "execute_result"
    },
    {
     "data": {
      "image/png": "[encoded data removed]",
      "text/plain": [
       "<Figure size 640x480 with 1 Axes>"
      ]
     },
     "metadata": {},
     "output_type": "display_data"
    }
   ],
   "source": [
    "'''Test'''\n",
    "\n",
    "plt.scatter(X_test.index, y_test, color=\"b\", label=\"truth\")\n",
    "plt.scatter(X_test.index, lr_model_month.predict(X_test), color=\"r\", label=\"prediction\")\n",
    "plt.xlabel(\"Month\")\n",
    "plt.ylabel(\"Monthly donation\")\n",
    "plt.title(\"Test Data\")\n",
    "plt.legend()"
   ]
  },
  {
   "cell_type": "code",
   "execution_count": null,
   "id": "47990e4f-4583-4412-bb80-2b2bd49a3055",
   "metadata": {},
   "outputs": [],
   "source": [
    "#ARIMA"
   ]
  },
  {
   "cell_type": "code",
   "execution_count": 161,
   "id": "40badc37-bf08-4845-9079-4c153e23b0a2",
   "metadata": {
    "tags": []
   },
   "outputs": [],
   "source": [
    "df_train = df_month[df_month.index <= '2021-09-30']\n",
    "df_test = df_month[df_month.index > '2021-09-30']"
   ]
  },
  {
   "cell_type": "code",
   "execution_count": 162,
   "id": "eec68c6a-9b68-4507-980a-c1c014fb232c",
   "metadata": {
    "tags": []
   },
   "outputs": [
    {
     "name": "stdout",
     "output_type": "stream",
     "text": [
      "ADF Statistic: -4.356265\n",
      "p-value: 0.000354\n",
      "Critical Values:\n",
      "\t1%: -3.527\n",
      "\t5%: -2.904\n",
      "\t10%: -2.589\n",
      "Series is stationary\n"
     ]
    },
    {
     "data": {
      "image/png": "[encoded data removed]",
      "text/plain": [
       "<Figure size 1400x700 with 1 Axes>"
      ]
     },
     "metadata": {},
     "output_type": "display_data"
    }
   ],
   "source": [
    "import statsmodels.api as sm\n",
    "\n",
    "#  test for Stationarity\n",
    "# Conduct the Augmented Dickey-Fuller test\n",
    "result = sm.tsa.adfuller(df_month['donation'])\n",
    "\n",
    "# Output the results\n",
    "print('ADF Statistic: %f' % result[0])\n",
    "print('p-value: %f' % result[1])\n",
    "print('Critical Values:')\n",
    "for key, value in result[4].items():\n",
    "    print('\\t%s: %.3f' % (key, value))\n",
    "\n",
    "# Interpretation\n",
    "if result[1] > 0.05:\n",
    "    print(\"Series is not stationary\")\n",
    "else:\n",
    "    print(\"Series is stationary\")\n",
    "\n",
    "# Plotting the time series data\n",
    "plt.figure(figsize=(14, 7))\n",
    "plt.plot(df_month.index, df_month['donation'], marker='o', linestyle='-', color='b')\n",
    "plt.title('Time Series Data')\n",
    "plt.xlabel('Month')\n",
    "plt.ylabel('Donation')\n",
    "plt.grid(True)\n",
    "plt.show()\n"
   ]
  },
  {
   "cell_type": "code",
   "execution_count": 67,
   "id": "cc676567-d803-4a45-863b-0ec2f4d8a6b6",
   "metadata": {},
   "outputs": [],
   "source": [
    " # If the data was not stationary, try 'Differencing' to make the data stationary before applying an ARIMA model\n",
    "#Take the first difference (subtracting the previous value from the current one) of the series.\n",
    "# df_train['diff_1'] = df_train['donation'].diff(1)\n",
    "\n",
    "#  retest for Stationarity\n",
    "# Conduct the Augmented Dickey-Fuller test\n",
    "\n",
    "# df_train = df_train.dropna()\n",
    "# result = sm.tsa.adfuller(df_train['diff_1'] )\n",
    "\n",
    "# # Output the results\n",
    "# print('ADF Statistic: %f' % result[0])\n",
    "# print('p-value: %f' % result[1])\n",
    "# print('Critical Values:')\n",
    "# for key, value in result[4].items():\n",
    "#     print('\\t%s: %.3f' % (key, value))\n",
    "\n",
    "# # Interpretation\n",
    "# if result[1] > 0.05:\n",
    "#     print(\"Series is not stationary\")\n",
    "# else:\n",
    "#     print(\"Series is stationary\")\n",
    "\n",
    "# # Plotting the time series data\n",
    "# plt.figure(figsize=(14, 7))\n",
    "# plt.plot(df_train.index, df_train['diff_1'] , marker='o', linestyle='-', color='b')\n",
    "# plt.title('Time Series Data')\n",
    "# plt.xlabel('Date')\n",
    "# plt.ylabel('Donation')\n",
    "# plt.grid(True)\n",
    "# plt.show()"
   ]
  },
  {
   "cell_type": "code",
   "execution_count": null,
   "id": "e5fe24bf-7ba1-4b7b-91e0-e048656abb8f",
   "metadata": {},
   "outputs": [],
   "source": [
    "# find p, q "
   ]
  },
  {
   "cell_type": "code",
   "execution_count": 163,
   "id": "6235bc30-0f38-4a9a-afab-5d369c373491",
   "metadata": {},
   "outputs": [
    {
     "data": {
      "image/png": "[encoded data removed]",
      "text/plain": [
       "<Figure size 640x480 with 1 Axes>"
      ]
     },
     "metadata": {},
     "output_type": "display_data"
    }
   ],
   "source": [
    "# pacf plot to determine p for AR\n",
    "\n",
    "plot_pacf(df_train['donation'])\n",
    "plt.show()\n",
    "\n",
    "# sharp cut after 3 lags, p = 3"
   ]
  },
  {
   "cell_type": "code",
   "execution_count": 164,
   "id": "1eebe5c4-a313-44a0-9a55-2bf8c69f34c5",
   "metadata": {},
   "outputs": [
    {
     "data": {
      "image/png": "[encoded data removed]",
      "text/plain": [
       "<Figure size 640x480 with 1 Axes>"
      ]
     },
     "metadata": {},
     "output_type": "display_data"
    }
   ],
   "source": [
    "# acf plot to determine q for MA\n",
    "\n",
    "plot_acf(df_train['donation'])\n",
    "plt.show()\n",
    "\n",
    "# seems to be a sharp cut after the 2nd line, q = 2 ? (Please double check)"
   ]
  },
  {
   "cell_type": "code",
   "execution_count": null,
   "id": "357102e8-ee75-4e22-abaa-16f3afd9b01e",
   "metadata": {},
   "outputs": [],
   "source": [
    "# build ARIMA model"
   ]
  },
  {
   "cell_type": "code",
   "execution_count": 79,
   "id": "dadf5192-31d8-47bc-b2bc-e089d7374b9a",
   "metadata": {},
   "outputs": [],
   "source": [
    "# codes from class  notebook.\n",
    "# from statsmodels.tsa.arima_model import ARIMA\n",
    "# import numpy as np\n",
    "\n",
    "# # fit model\n",
    "# model_arima = ARIMA(df_train['diff_1'], order=(3,1,2)) # order = (p, d, q)\n",
    "# model_arima = model_arima.fit(disp=-1)"
   ]
  },
  {
   "cell_type": "code",
   "execution_count": 165,
   "id": "3f67f131-bfe2-4449-8793-609cdf24dad5",
   "metadata": {
    "tags": []
   },
   "outputs": [],
   "source": [
    "import statsmodels.api as sm\n",
    "\n",
    "# Example orders (replace with your identified orders)\n",
    "p, d, q = 3, 0, 2\n",
    "\n",
    "# Initialize and fit ARIMA model\n",
    "model_arima = sm.tsa.ARIMA(df_train['donation'], order=(p, d, q))\n",
    "model_arima = model_arima.fit()"
   ]
  },
  {
   "cell_type": "code",
   "execution_count": 166,
   "id": "c2cde6a8-92ec-4192-801f-02c610a5ce3a",
   "metadata": {
    "tags": []
   },
   "outputs": [
    {
     "data": {
      "image/png": "[encoded data removed]",
      "text/plain": [
       "<Figure size 1200x600 with 1 Axes>"
      ]
     },
     "metadata": {},
     "output_type": "display_data"
    }
   ],
   "source": [
    "# Make in-sample predictions on the training set\n",
    "df_train['predictions'] = model_arima.predict(start=df_train.index.min(), end=df_train.index.max(), dynamic=False)\n",
    "\n",
    "# Plot the actual vs predicted values on the training set\n",
    "plt.figure(figsize=(12, 6))\n",
    "plt.plot(df_train['donation'], label='Actual Training Data')\n",
    "plt.plot(df_train['predictions'], label='Predictions on Training Data')\n",
    "plt.title('ARIMA Model - Actual vs Predicted on Training Data')\n",
    "plt.legend()\n",
    "plt.show()"
   ]
  },
  {
   "cell_type": "code",
   "execution_count": 167,
   "id": "7d9e4a27-5759-4a02-8332-19ad879c8430",
   "metadata": {
    "tags": []
   },
   "outputs": [
    {
     "name": "stdout",
     "output_type": "stream",
     "text": [
      "Mean Squared Error (MSE): 1197021010629367.0\n",
      "Root Mean Squared Error (RMSE): 34597991.42478313\n",
      "Mean Absolute Error (MAE): 21933060.218301646\n"
     ]
    }
   ],
   "source": [
    "from sklearn.metrics import mean_squared_error, mean_absolute_error\n",
    "import numpy as np\n",
    "\n",
    "# Assuming df_train['donation'] contains the actual values and df_train['predictions'] contains the predicted values\n",
    "actual_values = df_train['donation']\n",
    "predicted_values = df_train['predictions']\n",
    "\n",
    "# Calculate Mean Squared Error (MSE)\n",
    "mse = mean_squared_error(actual_values, predicted_values)\n",
    "\n",
    "# Calculate Root Mean Squared Error (RMSE)\n",
    "rmse = np.sqrt(mse)\n",
    "\n",
    "# Calculate Mean Absolute Error (MAE)\n",
    "mae = mean_absolute_error(actual_values, predicted_values)\n",
    "\n",
    "# Print the metrics\n",
    "print(f'Mean Squared Error (MSE): {mse}')\n",
    "print(f'Root Mean Squared Error (RMSE): {rmse}')\n",
    "print(f'Mean Absolute Error (MAE): {mae}')"
   ]
  },
  {
   "cell_type": "code",
   "execution_count": 168,
   "id": "d22247ae-c9e3-4628-8632-5a802f3766b2",
   "metadata": {
    "tags": []
   },
   "outputs": [
    {
     "data": {
      "image/png": "[encoded data removed]",
      "text/plain": [
       "<Figure size 1200x600 with 1 Axes>"
      ]
     },
     "metadata": {},
     "output_type": "display_data"
    }
   ],
   "source": [
    "# Make in-sample predictions on the training set\n",
    "# df_train['predictions'] = model_arima.predict(start=df_train.index.min(), end=df_train.index.max(), dynamic=False)\n",
    "# Apply the same differencing to df_test if we use differencing for the train data.\n",
    "# df_test['diff_1']= df_test['donation'].diff(1).dropna() \n",
    "\n",
    "\n",
    "df_test['predictions'] = model_arima.predict(start=df_test.index.min(), end=df_test.index.max(), dynamic=False)  # (Is this correct, please double check!)\n",
    "\n",
    "# Plot the actual vs predicted values on the training set\n",
    "plt.figure(figsize=(12, 6))\n",
    "plt.plot(df_test['donation'], label='Actual Testing Data')\n",
    "plt.plot(df_test['predictions'], label='Predictions on Testing Data')\n",
    "plt.title('ARIMA Model - Actual vs Predicted on Testing Data')\n",
    "plt.legend()\n",
    "plt.show()\n"
   ]
  },
  {
   "cell_type": "code",
   "execution_count": 169,
   "id": "d5240e0a-6e72-4749-bfec-e1fb96f2df96",
   "metadata": {},
   "outputs": [
    {
     "name": "stdout",
     "output_type": "stream",
     "text": [
      "Mean Squared Error (MSE): 1197021010629367.0\n",
      "Root Mean Squared Error (RMSE): 34597991.42478313\n",
      "Mean Absolute Error (MAE): 21933060.218301646\n"
     ]
    }
   ],
   "source": [
    "actual_values_test = df_test['donation']\n",
    "predicted_values_test = df_test['predictions']\n",
    "\n",
    "# Calculate Mean Squared Error (MSE)\n",
    "mse_test = mean_squared_error(actual_values, predicted_values)\n",
    "\n",
    "# Calculate Root Mean Squared Error (RMSE)\n",
    "rmse_test = np.sqrt(mse)\n",
    "\n",
    "# Calculate Mean Absolute Error (MAE)\n",
    "mae_test = mean_absolute_error(actual_values, predicted_values)\n",
    "\n",
    "# Print the metrics\n",
    "print(f'Mean Squared Error (MSE): {mse_test}')\n",
    "print(f'Root Mean Squared Error (RMSE): {rmse_test}')\n",
    "print(f'Mean Absolute Error (MAE): {mae_test}')"
   ]
  },
  {
   "cell_type": "code",
   "execution_count": null,
   "id": "bcebdeb0-58dc-4b9f-9b95-38973ee3f125",
   "metadata": {},
   "outputs": [],
   "source": []
  },
  {
   "cell_type": "code",
   "execution_count": null,
   "id": "8b20825c-bba3-4e7c-8052-077586f29e39",
   "metadata": {},
   "outputs": [],
   "source": [
    "# below is not done"
   ]
  },
  {
   "cell_type": "code",
   "execution_count": null,
   "id": "be4ea86f-844c-4918-b120-4a7cb2134b38",
   "metadata": {},
   "outputs": [],
   "source": [
    "# you can use TimeSeriesSplit to split the train/test and do cross_validation"
   ]
  },
  {
   "cell_type": "code",
   "execution_count": null,
   "id": "16004e99-4919-435e-aa33-cdd0f111832b",
   "metadata": {},
   "outputs": [],
   "source": [
    "from sklearn.model_selection import TimeSeriesSplit\n",
    "tscv = TimeSeriesSplit() "
   ]
  },
  {
   "cell_type": "code",
   "execution_count": 99,
   "id": "389b5dce-2156-476a-b784-4e15c1430f08",
   "metadata": {
    "tags": []
   },
   "outputs": [
    {
     "data": {
      "text/html": [
       "<div>\n",
       "<style scoped>\n",
       "    .dataframe tbody tr th:only-of-type {\n",
       "        vertical-align: middle;\n",
       "    }\n",
       "\n",
       "    .dataframe tbody tr th {\n",
       "        vertical-align: top;\n",
       "    }\n",
       "\n",
       "    .dataframe thead th {\n",
       "        text-align: right;\n",
       "    }\n",
       "</style>\n",
       "<table border=\"1\" class=\"dataframe\">\n",
       "  <thead>\n",
       "    <tr style=\"text-align: right;\">\n",
       "      <th></th>\n",
       "      <th>donation</th>\n",
       "    </tr>\n",
       "    <tr>\n",
       "      <th>transac_date</th>\n",
       "      <th></th>\n",
       "    </tr>\n",
       "  </thead>\n",
       "  <tbody>\n",
       "    <tr>\n",
       "      <th>2017-01-31</th>\n",
       "      <td>4994669</td>\n",
       "    </tr>\n",
       "    <tr>\n",
       "      <th>2017-02-28</th>\n",
       "      <td>13443407</td>\n",
       "    </tr>\n",
       "    <tr>\n",
       "      <th>2017-03-31</th>\n",
       "      <td>29247270</td>\n",
       "    </tr>\n",
       "    <tr>\n",
       "      <th>2017-04-30</th>\n",
       "      <td>41473874</td>\n",
       "    </tr>\n",
       "    <tr>\n",
       "      <th>2017-05-31</th>\n",
       "      <td>57727907</td>\n",
       "    </tr>\n",
       "  </tbody>\n",
       "</table>\n",
       "</div>"
      ],
      "text/plain": [
       "              donation\n",
       "transac_date          \n",
       "2017-01-31     4994669\n",
       "2017-02-28    13443407\n",
       "2017-03-31    29247270\n",
       "2017-04-30    41473874\n",
       "2017-05-31    57727907"
      ]
     },
     "execution_count": 99,
     "metadata": {},
     "output_type": "execute_result"
    }
   ],
   "source": [
    "df_month.head()"
   ]
  },
  {
   "cell_type": "code",
   "execution_count": null,
   "id": "34da1b73-2f97-445e-8015-ee57a926371c",
   "metadata": {},
   "outputs": [],
   "source": [
    "#hyper parameter tuning\n",
    "for train_index, test_index in tscv.split(df_month):\n",
    "    print(\"TRAIN:\", train_index, \"TEST:\", test_index)\n",
    "    X_train, X_test = lr_df.iloc[train_index,1:4], lr_df.iloc[test_index,1:4]\n",
    "    y_train, y_test = lr_df.iloc[train_index,0], lr_df.iloc[test_index,0]\n",
    "    model = LinearRegression().fit(X_train, y_train)\n",
    "#take average model performance metric"
   ]
  },
  {
   "cell_type": "code",
   "execution_count": null,
   "id": "fa8d2a5a-4593-49f7-abdc-6c6dd3f21fcc",
   "metadata": {},
   "outputs": [],
   "source": []
  },
  {
   "cell_type": "code",
   "execution_count": null,
   "id": "bfc5ccfb-ce86-4597-a609-bbd2c52211a4",
   "metadata": {},
   "outputs": [],
   "source": []
  }
 ],
 "metadata": {
  "kernelspec": {
   "display_name": "Python 3 (ipykernel)",
   "language": "python",
   "name": "python3"
  },
  "language_info": {
   "codemirror_mode": {
    "name": "ipython",
    "version": 3
   },
   "file_extension": ".py",
   "mimetype": "text/x-python",
   "name": "python",
   "nbconvert_exporter": "python",
   "pygments_lexer": "ipython3",
   "version": "3.8.10"
  }
 },
 "nbformat": 4,
 "nbformat_minor": 5
}
